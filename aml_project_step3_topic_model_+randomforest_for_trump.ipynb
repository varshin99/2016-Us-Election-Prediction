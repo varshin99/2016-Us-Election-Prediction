{
  "nbformat": 4,
  "nbformat_minor": 0,
  "metadata": {
    "colab": {
      "provenance": [],
      "machine_shape": "hm",
      "gpuType": "T4",
      "toc_visible": true
    },
    "kernelspec": {
      "name": "python3",
      "display_name": "Python 3"
    },
    "language_info": {
      "name": "python"
    },
    "accelerator": "GPU"
  },
  "cells": [
    {
      "cell_type": "markdown",
      "source": [
        "\"C:\\Program Files\\python.exe\" -m venv myenv\n",
        "\n",
        "\n"
      ],
      "metadata": {
        "id": "AMTGPh5JKwpH"
      }
    },
    {
      "cell_type": "code",
      "source": [
        "import sys\n",
        "\n",
        "# Print the Python version\n",
        "print(sys.version)\n"
      ],
      "metadata": {
        "colab": {
          "base_uri": "https://localhost:8080/"
        },
        "id": "mxPqPwiVxhp6",
        "outputId": "91b674a8-6d29-44f2-d2cd-9a999741d425"
      },
      "execution_count": null,
      "outputs": [
        {
          "output_type": "stream",
          "name": "stdout",
          "text": [
            "3.10.11 (tags/v3.10.11:7d4cc5a, Apr  5 2023, 00:38:17) [MSC v.1929 64 bit (AMD64)]\n"
          ]
        }
      ]
    },
    {
      "cell_type": "code",
      "execution_count": null,
      "metadata": {
        "colab": {
          "base_uri": "https://localhost:8080/"
        },
        "id": "xl_GlBaAxsQi",
        "outputId": "a195a083-224f-4eed-99c1-d40532eab7e2"
      },
      "outputs": [
        {
          "output_type": "stream",
          "name": "stdout",
          "text": [
            "Requirement already satisfied: emoji in c:\\users\\bgarikip\\myenv\\lib\\site-packages (2.9.0)\n"
          ]
        }
      ],
      "source": [
        "!pip install emoji"
      ]
    },
    {
      "cell_type": "code",
      "source": [
        "pip install pandas"
      ],
      "metadata": {
        "colab": {
          "base_uri": "https://localhost:8080/"
        },
        "id": "ZlmDNr6Uxodn",
        "outputId": "b640b8d7-d175-47e5-af6c-031ed3e655a7"
      },
      "execution_count": null,
      "outputs": [
        {
          "output_type": "stream",
          "name": "stdout",
          "text": [
            "Requirement already satisfied: pandas in c:\\users\\bgarikip\\myenv\\lib\\site-packages (2.1.4)\n",
            "Requirement already satisfied: numpy<2,>=1.22.4 in c:\\users\\bgarikip\\myenv\\lib\\site-packages (from pandas) (1.26.2)\n",
            "Requirement already satisfied: python-dateutil>=2.8.2 in c:\\users\\bgarikip\\myenv\\lib\\site-packages (from pandas) (2.8.2)\n",
            "Requirement already satisfied: pytz>=2020.1 in c:\\users\\bgarikip\\myenv\\lib\\site-packages (from pandas) (2023.3.post1)\n",
            "Requirement already satisfied: tzdata>=2022.1 in c:\\users\\bgarikip\\myenv\\lib\\site-packages (from pandas) (2023.3)\n",
            "Requirement already satisfied: six>=1.5 in c:\\users\\bgarikip\\myenv\\lib\\site-packages (from python-dateutil>=2.8.2->pandas) (1.16.0)\n",
            "Note: you may need to restart the kernel to use updated packages.\n"
          ]
        }
      ]
    },
    {
      "cell_type": "code",
      "source": [
        "#Importing Libraries\n",
        "import pandas as pd\n",
        "import re"
      ],
      "metadata": {
        "id": "rlGsx6gHx2lE"
      },
      "execution_count": null,
      "outputs": []
    },
    {
      "cell_type": "code",
      "source": [
        "pip install nltk"
      ],
      "metadata": {
        "colab": {
          "base_uri": "https://localhost:8080/"
        },
        "id": "w_po9Ylox0Qv",
        "outputId": "a268d0b7-0ff2-43b1-e8b7-4bc2b30aef24"
      },
      "execution_count": null,
      "outputs": [
        {
          "output_type": "stream",
          "name": "stdout",
          "text": [
            "Requirement already satisfied: nltk in c:\\users\\bgarikip\\myenv\\lib\\site-packages (3.8.1)\n",
            "Requirement already satisfied: click in c:\\users\\bgarikip\\myenv\\lib\\site-packages (from nltk) (8.1.7)\n",
            "Requirement already satisfied: joblib in c:\\users\\bgarikip\\myenv\\lib\\site-packages (from nltk) (1.3.2)\n",
            "Requirement already satisfied: regex>=2021.8.3 in c:\\users\\bgarikip\\myenv\\lib\\site-packages (from nltk) (2023.10.3)\n",
            "Requirement already satisfied: tqdm in c:\\users\\bgarikip\\myenv\\lib\\site-packages (from nltk) (4.66.1)\n",
            "Requirement already satisfied: colorama in c:\\users\\bgarikip\\myenv\\lib\\site-packages (from click->nltk) (0.4.6)\n",
            "Note: you may need to restart the kernel to use updated packages.\n"
          ]
        }
      ]
    },
    {
      "cell_type": "code",
      "source": [
        "import re\n",
        "import nltk\n",
        "from nltk.tokenize import TweetTokenizer\n",
        "from nltk.stem import WordNetLemmatizer\n",
        "from nltk.corpus import stopwords\n",
        "import emoji"
      ],
      "metadata": {
        "id": "U9Y62wERx39T"
      },
      "execution_count": null,
      "outputs": []
    },
    {
      "cell_type": "code",
      "source": [
        "#from google.colab import drive\n",
        "#drive.mount('/content/drive')"
      ],
      "metadata": {
        "id": "HhP8tIUtH6Uh"
      },
      "execution_count": null,
      "outputs": []
    },
    {
      "cell_type": "code",
      "source": [
        "pip install pyarrow"
      ],
      "metadata": {
        "id": "5QdgN1HEyLiE",
        "colab": {
          "base_uri": "https://localhost:8080/"
        },
        "outputId": "82505ba2-7987-4c50-8784-001ebfe616c1"
      },
      "execution_count": null,
      "outputs": [
        {
          "output_type": "stream",
          "name": "stdout",
          "text": [
            "Requirement already satisfied: pyarrow in c:\\users\\bgarikip\\myenv\\lib\\site-packages (14.0.1)\n",
            "Requirement already satisfied: numpy>=1.16.6 in c:\\users\\bgarikip\\myenv\\lib\\site-packages (from pyarrow) (1.26.2)\n",
            "Note: you may need to restart the kernel to use updated packages.\n"
          ]
        }
      ]
    },
    {
      "cell_type": "code",
      "source": [
        "#file_path = 'Downloads/df_all_merged&filtered_cleaned_data_topiclabels.feather'\n",
        "file_path2 = 'Downloads/df_all_sentiment.feather'\n",
        "\n",
        "df = pd.read_feather(file_path2)\n",
        "#dfmar = pd.read_feather(file_path2)"
      ],
      "metadata": {
        "id": "hSGOQBYEx56y"
      },
      "execution_count": null,
      "outputs": []
    },
    {
      "cell_type": "code",
      "source": [
        "import numpy as np\n",
        "\n",
        "\n",
        "def categorize_tweets_by_userid(df, userid_column):\n",
        "\n",
        "    # Define the conditions for categorization\n",
        "    conditions = [\n",
        "        df[userid_column] == '25073877',  # Trump's user ID\n",
        "        df[userid_column] == '1339835893'  # Clinton's user ID\n",
        "    ]\n",
        "\n",
        "    # Define the corresponding labels for the conditions\n",
        "    choices = ['trump', 'clinton']\n",
        "\n",
        "    # Apply the conditions and choices to the DataFrame\n",
        "    df['tweet_by'] = np.select(conditions, choices, default='others')\n",
        "\n",
        "    return df\n",
        "\n",
        "# Apply the function to your DataFrame\n",
        "df = categorize_tweets_by_userid(df, 'userid')\n"
      ],
      "metadata": {
        "id": "H1kK1I5SyPMS"
      },
      "execution_count": null,
      "outputs": []
    },
    {
      "cell_type": "code",
      "source": [
        "filtered_dft = df[df['tweet_by'] == 'trump']\n",
        "filtered_dfc = df[df['tweet_by'] == 'clinton']\n",
        "filtered_dfo = df[df['tweet_by'] == 'others']"
      ],
      "metadata": {
        "id": "o6ZkCiDfA-im"
      },
      "execution_count": null,
      "outputs": []
    },
    {
      "cell_type": "code",
      "source": [
        "sampled_df = filtered_dfo.sample(frac=0.17, random_state=42)\n"
      ],
      "metadata": {
        "id": "3AFRruGl-eVV"
      },
      "execution_count": null,
      "outputs": []
    },
    {
      "cell_type": "code",
      "source": [
        "df_merged = pd.concat([filtered_dft, filtered_dfc, sampled_df], ignore_index=True)\n"
      ],
      "metadata": {
        "id": "1OpGJhbDBYAu"
      },
      "execution_count": null,
      "outputs": []
    },
    {
      "cell_type": "code",
      "source": [
        "unique_userid_count = df_merged['userid'].nunique()\n",
        "print(unique_userid_count)\n",
        "# there are 852278 unique users in this dataset."
      ],
      "metadata": {
        "id": "OFeuFJ8qyEB8",
        "colab": {
          "base_uri": "https://localhost:8080/"
        },
        "outputId": "ffc2fb3a-2ef2-4993-a7b6-54497b5b7a41"
      },
      "execution_count": null,
      "outputs": [
        {
          "output_type": "stream",
          "name": "stdout",
          "text": [
            "1056708\n"
          ]
        }
      ]
    },
    {
      "cell_type": "code",
      "source": [
        "len(df_merged)"
      ],
      "metadata": {
        "colab": {
          "base_uri": "https://localhost:8080/"
        },
        "id": "DshKVoX4CHWE",
        "outputId": "bbd7dbd8-e4ab-489d-ec0c-43f1df7f0ccb"
      },
      "execution_count": null,
      "outputs": [
        {
          "output_type": "execute_result",
          "data": {
            "text/plain": [
              "3917432"
            ]
          },
          "metadata": {},
          "execution_count": 553
        }
      ]
    },
    {
      "cell_type": "code",
      "source": [
        "len(df_merged[df_merged['tweet_by'] == 'others'])"
      ],
      "metadata": {
        "colab": {
          "base_uri": "https://localhost:8080/"
        },
        "id": "OoLuFI6GBsuM",
        "outputId": "6b3a6209-aac4-45e5-a20a-435b0d95ee1b"
      },
      "execution_count": null,
      "outputs": [
        {
          "output_type": "execute_result",
          "data": {
            "text/plain": [
              "3909740"
            ]
          },
          "metadata": {},
          "execution_count": 554
        }
      ]
    },
    {
      "cell_type": "code",
      "source": [
        "pip install scikit-learn"
      ],
      "metadata": {
        "id": "mJVszZ5Kyev1",
        "colab": {
          "base_uri": "https://localhost:8080/"
        },
        "outputId": "f5bebb97-5ab3-4b30-a996-9d9d775acf55"
      },
      "execution_count": null,
      "outputs": [
        {
          "output_type": "stream",
          "name": "stdout",
          "text": [
            "Requirement already satisfied: scikit-learn in c:\\users\\bgarikip\\myenv\\lib\\site-packages (1.3.2)\n",
            "Requirement already satisfied: numpy<2.0,>=1.17.3 in c:\\users\\bgarikip\\myenv\\lib\\site-packages (from scikit-learn) (1.26.2)\n",
            "Requirement already satisfied: scipy>=1.5.0 in c:\\users\\bgarikip\\myenv\\lib\\site-packages (from scikit-learn) (1.11.4)\n",
            "Requirement already satisfied: joblib>=1.1.1 in c:\\users\\bgarikip\\myenv\\lib\\site-packages (from scikit-learn) (1.3.2)\n",
            "Requirement already satisfied: threadpoolctl>=2.0.0 in c:\\users\\bgarikip\\myenv\\lib\\site-packages (from scikit-learn) (3.2.0)\n",
            "Note: you may need to restart the kernel to use updated packages.\n"
          ]
        }
      ]
    },
    {
      "cell_type": "code",
      "source": [
        "filtered_dft = filtered_dft.reset_index(drop=True)"
      ],
      "metadata": {
        "id": "0lSja4jDCZLL"
      },
      "execution_count": null,
      "outputs": []
    },
    {
      "cell_type": "markdown",
      "source": [
        "top2vec is used for the topic modeling but it alos taking to analyize longer than we expected so to finish this in given time we had to consider a smaller dataset. so we took all the tweets by the trump and used that filtered dataset for next process. if we got more resources we could gone without any filtration."
      ],
      "metadata": {
        "id": "vg23K285EjUV"
      }
    },
    {
      "cell_type": "code",
      "source": [
        "\n",
        "from sklearn.model_selection import train_test_split\n",
        "\n",
        "# Assuming df_final_2 is your DataFrame\n",
        "train_df, test_df = train_test_split(filtered_dft, test_size=0.1, random_state=42)\n",
        "# Now train_df contains 90% of the data, and test_df contains 10% of the data\n",
        "train_df = train_df.reset_index(drop=True)\n",
        "test_df = train_df.reset_index(drop=True)"
      ],
      "metadata": {
        "id": "NpM-iJiryh7Z"
      },
      "execution_count": null,
      "outputs": []
    },
    {
      "cell_type": "code",
      "source": [
        "len(train_df)"
      ],
      "metadata": {
        "colab": {
          "base_uri": "https://localhost:8080/"
        },
        "id": "vngXoLU4Pq3O",
        "outputId": "a6cfa4a9-e717-47e1-aedc-9ee47e9dae23"
      },
      "execution_count": null,
      "outputs": [
        {
          "output_type": "execute_result",
          "data": {
            "text/plain": [
              "2840"
            ]
          },
          "metadata": {},
          "execution_count": 558
        }
      ]
    },
    {
      "cell_type": "code",
      "source": [
        "len(test_df)"
      ],
      "metadata": {
        "colab": {
          "base_uri": "https://localhost:8080/"
        },
        "id": "bsKBeUADPsh0",
        "outputId": "d455b541-57bb-4e47-e8be-10682f9e42e0"
      },
      "execution_count": null,
      "outputs": [
        {
          "output_type": "execute_result",
          "data": {
            "text/plain": [
              "2840"
            ]
          },
          "metadata": {},
          "execution_count": 559
        }
      ]
    },
    {
      "cell_type": "code",
      "source": [
        "!pip install tensorflow\n",
        "!pip install tensorflow-hub\n",
        "!pip install tensorflow-text\n"
      ],
      "metadata": {
        "colab": {
          "base_uri": "https://localhost:8080/"
        },
        "id": "5Zfjr-RcyCDs",
        "outputId": "765f75d9-ac0b-4178-eaef-7bc834718e53"
      },
      "execution_count": null,
      "outputs": [
        {
          "output_type": "stream",
          "name": "stdout",
          "text": [
            "Requirement already satisfied: tensorflow in c:\\users\\bgarikip\\myenv\\lib\\site-packages (2.10.1)\n",
            "Requirement already satisfied: absl-py>=1.0.0 in c:\\users\\bgarikip\\myenv\\lib\\site-packages (from tensorflow) (2.0.0)\n",
            "Requirement already satisfied: astunparse>=1.6.0 in c:\\users\\bgarikip\\myenv\\lib\\site-packages (from tensorflow) (1.6.3)\n",
            "Requirement already satisfied: flatbuffers>=2.0 in c:\\users\\bgarikip\\myenv\\lib\\site-packages (from tensorflow) (23.5.26)\n",
            "Requirement already satisfied: gast<=0.4.0,>=0.2.1 in c:\\users\\bgarikip\\myenv\\lib\\site-packages (from tensorflow) (0.4.0)\n",
            "Requirement already satisfied: google-pasta>=0.1.1 in c:\\users\\bgarikip\\myenv\\lib\\site-packages (from tensorflow) (0.2.0)\n",
            "Requirement already satisfied: h5py>=2.9.0 in c:\\users\\bgarikip\\myenv\\lib\\site-packages (from tensorflow) (3.10.0)\n",
            "Requirement already satisfied: keras-preprocessing>=1.1.1 in c:\\users\\bgarikip\\myenv\\lib\\site-packages (from tensorflow) (1.1.2)\n",
            "Requirement already satisfied: libclang>=13.0.0 in c:\\users\\bgarikip\\myenv\\lib\\site-packages (from tensorflow) (16.0.6)\n",
            "Requirement already satisfied: numpy>=1.20 in c:\\users\\bgarikip\\myenv\\lib\\site-packages (from tensorflow) (1.26.2)\n",
            "Requirement already satisfied: opt-einsum>=2.3.2 in c:\\users\\bgarikip\\myenv\\lib\\site-packages (from tensorflow) (3.3.0)\n",
            "Requirement already satisfied: packaging in c:\\users\\bgarikip\\myenv\\lib\\site-packages (from tensorflow) (23.2)\n",
            "Requirement already satisfied: protobuf<3.20,>=3.9.2 in c:\\users\\bgarikip\\myenv\\lib\\site-packages (from tensorflow) (3.19.6)\n",
            "Requirement already satisfied: setuptools in c:\\users\\bgarikip\\myenv\\lib\\site-packages (from tensorflow) (65.5.0)\n",
            "Requirement already satisfied: six>=1.12.0 in c:\\users\\bgarikip\\myenv\\lib\\site-packages (from tensorflow) (1.16.0)\n",
            "Requirement already satisfied: termcolor>=1.1.0 in c:\\users\\bgarikip\\myenv\\lib\\site-packages (from tensorflow) (2.4.0)\n",
            "Requirement already satisfied: typing-extensions>=3.6.6 in c:\\users\\bgarikip\\myenv\\lib\\site-packages (from tensorflow) (4.9.0)\n",
            "Requirement already satisfied: wrapt>=1.11.0 in c:\\users\\bgarikip\\myenv\\lib\\site-packages (from tensorflow) (1.14.1)\n",
            "Requirement already satisfied: tensorflow-io-gcs-filesystem>=0.23.1 in c:\\users\\bgarikip\\myenv\\lib\\site-packages (from tensorflow) (0.31.0)\n",
            "Requirement already satisfied: grpcio<2.0,>=1.24.3 in c:\\users\\bgarikip\\myenv\\lib\\site-packages (from tensorflow) (1.60.0)\n",
            "Requirement already satisfied: tensorboard<2.11,>=2.10 in c:\\users\\bgarikip\\myenv\\lib\\site-packages (from tensorflow) (2.10.1)\n",
            "Requirement already satisfied: tensorflow-estimator<2.11,>=2.10.0 in c:\\users\\bgarikip\\myenv\\lib\\site-packages (from tensorflow) (2.10.0)\n",
            "Requirement already satisfied: keras<2.11,>=2.10.0 in c:\\users\\bgarikip\\myenv\\lib\\site-packages (from tensorflow) (2.10.0)\n",
            "Requirement already satisfied: wheel<1.0,>=0.23.0 in c:\\users\\bgarikip\\myenv\\lib\\site-packages (from astunparse>=1.6.0->tensorflow) (0.42.0)\n",
            "Requirement already satisfied: google-auth<3,>=1.6.3 in c:\\users\\bgarikip\\myenv\\lib\\site-packages (from tensorboard<2.11,>=2.10->tensorflow) (2.25.2)\n",
            "Requirement already satisfied: google-auth-oauthlib<0.5,>=0.4.1 in c:\\users\\bgarikip\\myenv\\lib\\site-packages (from tensorboard<2.11,>=2.10->tensorflow) (0.4.6)\n",
            "Requirement already satisfied: markdown>=2.6.8 in c:\\users\\bgarikip\\myenv\\lib\\site-packages (from tensorboard<2.11,>=2.10->tensorflow) (3.5.1)\n",
            "Requirement already satisfied: requests<3,>=2.21.0 in c:\\users\\bgarikip\\myenv\\lib\\site-packages (from tensorboard<2.11,>=2.10->tensorflow) (2.31.0)\n",
            "Requirement already satisfied: tensorboard-data-server<0.7.0,>=0.6.0 in c:\\users\\bgarikip\\myenv\\lib\\site-packages (from tensorboard<2.11,>=2.10->tensorflow) (0.6.1)\n",
            "Requirement already satisfied: tensorboard-plugin-wit>=1.6.0 in c:\\users\\bgarikip\\myenv\\lib\\site-packages (from tensorboard<2.11,>=2.10->tensorflow) (1.8.1)\n",
            "Requirement already satisfied: werkzeug>=1.0.1 in c:\\users\\bgarikip\\myenv\\lib\\site-packages (from tensorboard<2.11,>=2.10->tensorflow) (3.0.1)\n",
            "Requirement already satisfied: cachetools<6.0,>=2.0.0 in c:\\users\\bgarikip\\myenv\\lib\\site-packages (from google-auth<3,>=1.6.3->tensorboard<2.11,>=2.10->tensorflow) (5.3.2)\n",
            "Requirement already satisfied: pyasn1-modules>=0.2.1 in c:\\users\\bgarikip\\myenv\\lib\\site-packages (from google-auth<3,>=1.6.3->tensorboard<2.11,>=2.10->tensorflow) (0.3.0)\n",
            "Requirement already satisfied: rsa<5,>=3.1.4 in c:\\users\\bgarikip\\myenv\\lib\\site-packages (from google-auth<3,>=1.6.3->tensorboard<2.11,>=2.10->tensorflow) (4.9)\n",
            "Requirement already satisfied: requests-oauthlib>=0.7.0 in c:\\users\\bgarikip\\myenv\\lib\\site-packages (from google-auth-oauthlib<0.5,>=0.4.1->tensorboard<2.11,>=2.10->tensorflow) (1.3.1)\n",
            "Requirement already satisfied: charset-normalizer<4,>=2 in c:\\users\\bgarikip\\myenv\\lib\\site-packages (from requests<3,>=2.21.0->tensorboard<2.11,>=2.10->tensorflow) (3.3.2)\n",
            "Requirement already satisfied: idna<4,>=2.5 in c:\\users\\bgarikip\\myenv\\lib\\site-packages (from requests<3,>=2.21.0->tensorboard<2.11,>=2.10->tensorflow) (3.6)\n",
            "Requirement already satisfied: urllib3<3,>=1.21.1 in c:\\users\\bgarikip\\myenv\\lib\\site-packages (from requests<3,>=2.21.0->tensorboard<2.11,>=2.10->tensorflow) (2.1.0)\n",
            "Requirement already satisfied: certifi>=2017.4.17 in c:\\users\\bgarikip\\myenv\\lib\\site-packages (from requests<3,>=2.21.0->tensorboard<2.11,>=2.10->tensorflow) (2023.11.17)\n",
            "Requirement already satisfied: MarkupSafe>=2.1.1 in c:\\users\\bgarikip\\myenv\\lib\\site-packages (from werkzeug>=1.0.1->tensorboard<2.11,>=2.10->tensorflow) (2.1.3)\n",
            "Requirement already satisfied: pyasn1<0.6.0,>=0.4.6 in c:\\users\\bgarikip\\myenv\\lib\\site-packages (from pyasn1-modules>=0.2.1->google-auth<3,>=1.6.3->tensorboard<2.11,>=2.10->tensorflow) (0.5.1)\n",
            "Requirement already satisfied: oauthlib>=3.0.0 in c:\\users\\bgarikip\\myenv\\lib\\site-packages (from requests-oauthlib>=0.7.0->google-auth-oauthlib<0.5,>=0.4.1->tensorboard<2.11,>=2.10->tensorflow) (3.2.2)\n",
            "Requirement already satisfied: tensorflow-hub in c:\\users\\bgarikip\\myenv\\lib\\site-packages (0.15.0)\n",
            "Requirement already satisfied: numpy>=1.12.0 in c:\\users\\bgarikip\\myenv\\lib\\site-packages (from tensorflow-hub) (1.26.2)\n",
            "Requirement already satisfied: protobuf>=3.19.6 in c:\\users\\bgarikip\\myenv\\lib\\site-packages (from tensorflow-hub) (3.19.6)\n",
            "Requirement already satisfied: tensorflow-text in c:\\users\\bgarikip\\myenv\\lib\\site-packages (2.10.0)\n",
            "Requirement already satisfied: tensorflow-hub>=0.8.0 in c:\\users\\bgarikip\\myenv\\lib\\site-packages (from tensorflow-text) (0.15.0)\n",
            "Requirement already satisfied: tensorflow<2.11,>=2.10.0 in c:\\users\\bgarikip\\myenv\\lib\\site-packages (from tensorflow-text) (2.10.1)\n",
            "Requirement already satisfied: absl-py>=1.0.0 in c:\\users\\bgarikip\\myenv\\lib\\site-packages (from tensorflow<2.11,>=2.10.0->tensorflow-text) (2.0.0)\n",
            "Requirement already satisfied: astunparse>=1.6.0 in c:\\users\\bgarikip\\myenv\\lib\\site-packages (from tensorflow<2.11,>=2.10.0->tensorflow-text) (1.6.3)\n",
            "Requirement already satisfied: flatbuffers>=2.0 in c:\\users\\bgarikip\\myenv\\lib\\site-packages (from tensorflow<2.11,>=2.10.0->tensorflow-text) (23.5.26)\n",
            "Requirement already satisfied: gast<=0.4.0,>=0.2.1 in c:\\users\\bgarikip\\myenv\\lib\\site-packages (from tensorflow<2.11,>=2.10.0->tensorflow-text) (0.4.0)\n",
            "Requirement already satisfied: google-pasta>=0.1.1 in c:\\users\\bgarikip\\myenv\\lib\\site-packages (from tensorflow<2.11,>=2.10.0->tensorflow-text) (0.2.0)\n",
            "Requirement already satisfied: h5py>=2.9.0 in c:\\users\\bgarikip\\myenv\\lib\\site-packages (from tensorflow<2.11,>=2.10.0->tensorflow-text) (3.10.0)\n",
            "Requirement already satisfied: keras-preprocessing>=1.1.1 in c:\\users\\bgarikip\\myenv\\lib\\site-packages (from tensorflow<2.11,>=2.10.0->tensorflow-text) (1.1.2)\n",
            "Requirement already satisfied: libclang>=13.0.0 in c:\\users\\bgarikip\\myenv\\lib\\site-packages (from tensorflow<2.11,>=2.10.0->tensorflow-text) (16.0.6)\n",
            "Requirement already satisfied: numpy>=1.20 in c:\\users\\bgarikip\\myenv\\lib\\site-packages (from tensorflow<2.11,>=2.10.0->tensorflow-text) (1.26.2)\n",
            "Requirement already satisfied: opt-einsum>=2.3.2 in c:\\users\\bgarikip\\myenv\\lib\\site-packages (from tensorflow<2.11,>=2.10.0->tensorflow-text) (3.3.0)\n",
            "Requirement already satisfied: packaging in c:\\users\\bgarikip\\myenv\\lib\\site-packages (from tensorflow<2.11,>=2.10.0->tensorflow-text) (23.2)\n",
            "Requirement already satisfied: protobuf<3.20,>=3.9.2 in c:\\users\\bgarikip\\myenv\\lib\\site-packages (from tensorflow<2.11,>=2.10.0->tensorflow-text) (3.19.6)\n",
            "Requirement already satisfied: setuptools in c:\\users\\bgarikip\\myenv\\lib\\site-packages (from tensorflow<2.11,>=2.10.0->tensorflow-text) (65.5.0)\n",
            "Requirement already satisfied: six>=1.12.0 in c:\\users\\bgarikip\\myenv\\lib\\site-packages (from tensorflow<2.11,>=2.10.0->tensorflow-text) (1.16.0)\n",
            "Requirement already satisfied: termcolor>=1.1.0 in c:\\users\\bgarikip\\myenv\\lib\\site-packages (from tensorflow<2.11,>=2.10.0->tensorflow-text) (2.4.0)\n",
            "Requirement already satisfied: typing-extensions>=3.6.6 in c:\\users\\bgarikip\\myenv\\lib\\site-packages (from tensorflow<2.11,>=2.10.0->tensorflow-text) (4.9.0)\n",
            "Requirement already satisfied: wrapt>=1.11.0 in c:\\users\\bgarikip\\myenv\\lib\\site-packages (from tensorflow<2.11,>=2.10.0->tensorflow-text) (1.14.1)\n",
            "Requirement already satisfied: tensorflow-io-gcs-filesystem>=0.23.1 in c:\\users\\bgarikip\\myenv\\lib\\site-packages (from tensorflow<2.11,>=2.10.0->tensorflow-text) (0.31.0)\n",
            "Requirement already satisfied: grpcio<2.0,>=1.24.3 in c:\\users\\bgarikip\\myenv\\lib\\site-packages (from tensorflow<2.11,>=2.10.0->tensorflow-text) (1.60.0)\n",
            "Requirement already satisfied: tensorboard<2.11,>=2.10 in c:\\users\\bgarikip\\myenv\\lib\\site-packages (from tensorflow<2.11,>=2.10.0->tensorflow-text) (2.10.1)\n",
            "Requirement already satisfied: tensorflow-estimator<2.11,>=2.10.0 in c:\\users\\bgarikip\\myenv\\lib\\site-packages (from tensorflow<2.11,>=2.10.0->tensorflow-text) (2.10.0)\n",
            "Requirement already satisfied: keras<2.11,>=2.10.0 in c:\\users\\bgarikip\\myenv\\lib\\site-packages (from tensorflow<2.11,>=2.10.0->tensorflow-text) (2.10.0)\n",
            "Requirement already satisfied: wheel<1.0,>=0.23.0 in c:\\users\\bgarikip\\myenv\\lib\\site-packages (from astunparse>=1.6.0->tensorflow<2.11,>=2.10.0->tensorflow-text) (0.42.0)\n",
            "Requirement already satisfied: google-auth<3,>=1.6.3 in c:\\users\\bgarikip\\myenv\\lib\\site-packages (from tensorboard<2.11,>=2.10->tensorflow<2.11,>=2.10.0->tensorflow-text) (2.25.2)\n",
            "Requirement already satisfied: google-auth-oauthlib<0.5,>=0.4.1 in c:\\users\\bgarikip\\myenv\\lib\\site-packages (from tensorboard<2.11,>=2.10->tensorflow<2.11,>=2.10.0->tensorflow-text) (0.4.6)\n",
            "Requirement already satisfied: markdown>=2.6.8 in c:\\users\\bgarikip\\myenv\\lib\\site-packages (from tensorboard<2.11,>=2.10->tensorflow<2.11,>=2.10.0->tensorflow-text) (3.5.1)\n",
            "Requirement already satisfied: requests<3,>=2.21.0 in c:\\users\\bgarikip\\myenv\\lib\\site-packages (from tensorboard<2.11,>=2.10->tensorflow<2.11,>=2.10.0->tensorflow-text) (2.31.0)\n",
            "Requirement already satisfied: tensorboard-data-server<0.7.0,>=0.6.0 in c:\\users\\bgarikip\\myenv\\lib\\site-packages (from tensorboard<2.11,>=2.10->tensorflow<2.11,>=2.10.0->tensorflow-text) (0.6.1)\n",
            "Requirement already satisfied: tensorboard-plugin-wit>=1.6.0 in c:\\users\\bgarikip\\myenv\\lib\\site-packages (from tensorboard<2.11,>=2.10->tensorflow<2.11,>=2.10.0->tensorflow-text) (1.8.1)\n",
            "Requirement already satisfied: werkzeug>=1.0.1 in c:\\users\\bgarikip\\myenv\\lib\\site-packages (from tensorboard<2.11,>=2.10->tensorflow<2.11,>=2.10.0->tensorflow-text) (3.0.1)\n",
            "Requirement already satisfied: cachetools<6.0,>=2.0.0 in c:\\users\\bgarikip\\myenv\\lib\\site-packages (from google-auth<3,>=1.6.3->tensorboard<2.11,>=2.10->tensorflow<2.11,>=2.10.0->tensorflow-text) (5.3.2)\n",
            "Requirement already satisfied: pyasn1-modules>=0.2.1 in c:\\users\\bgarikip\\myenv\\lib\\site-packages (from google-auth<3,>=1.6.3->tensorboard<2.11,>=2.10->tensorflow<2.11,>=2.10.0->tensorflow-text) (0.3.0)\n",
            "Requirement already satisfied: rsa<5,>=3.1.4 in c:\\users\\bgarikip\\myenv\\lib\\site-packages (from google-auth<3,>=1.6.3->tensorboard<2.11,>=2.10->tensorflow<2.11,>=2.10.0->tensorflow-text) (4.9)\n",
            "Requirement already satisfied: requests-oauthlib>=0.7.0 in c:\\users\\bgarikip\\myenv\\lib\\site-packages (from google-auth-oauthlib<0.5,>=0.4.1->tensorboard<2.11,>=2.10->tensorflow<2.11,>=2.10.0->tensorflow-text) (1.3.1)\n",
            "Requirement already satisfied: charset-normalizer<4,>=2 in c:\\users\\bgarikip\\myenv\\lib\\site-packages (from requests<3,>=2.21.0->tensorboard<2.11,>=2.10->tensorflow<2.11,>=2.10.0->tensorflow-text) (3.3.2)\n",
            "Requirement already satisfied: idna<4,>=2.5 in c:\\users\\bgarikip\\myenv\\lib\\site-packages (from requests<3,>=2.21.0->tensorboard<2.11,>=2.10->tensorflow<2.11,>=2.10.0->tensorflow-text) (3.6)\n",
            "Requirement already satisfied: urllib3<3,>=1.21.1 in c:\\users\\bgarikip\\myenv\\lib\\site-packages (from requests<3,>=2.21.0->tensorboard<2.11,>=2.10->tensorflow<2.11,>=2.10.0->tensorflow-text) (2.1.0)\n",
            "Requirement already satisfied: certifi>=2017.4.17 in c:\\users\\bgarikip\\myenv\\lib\\site-packages (from requests<3,>=2.21.0->tensorboard<2.11,>=2.10->tensorflow<2.11,>=2.10.0->tensorflow-text) (2023.11.17)\n",
            "Requirement already satisfied: MarkupSafe>=2.1.1 in c:\\users\\bgarikip\\myenv\\lib\\site-packages (from werkzeug>=1.0.1->tensorboard<2.11,>=2.10->tensorflow<2.11,>=2.10.0->tensorflow-text) (2.1.3)\n",
            "Requirement already satisfied: pyasn1<0.6.0,>=0.4.6 in c:\\users\\bgarikip\\myenv\\lib\\site-packages (from pyasn1-modules>=0.2.1->google-auth<3,>=1.6.3->tensorboard<2.11,>=2.10->tensorflow<2.11,>=2.10.0->tensorflow-text) (0.5.1)\n",
            "Requirement already satisfied: oauthlib>=3.0.0 in c:\\users\\bgarikip\\myenv\\lib\\site-packages (from requests-oauthlib>=0.7.0->google-auth-oauthlib<0.5,>=0.4.1->tensorboard<2.11,>=2.10->tensorflow<2.11,>=2.10.0->tensorflow-text) (3.2.2)\n"
          ]
        }
      ]
    },
    {
      "cell_type": "code",
      "source": [
        "pip install top2vec\n"
      ],
      "metadata": {
        "id": "Z9Z22JusaIFa",
        "colab": {
          "base_uri": "https://localhost:8080/"
        },
        "outputId": "86d1b909-1b3d-4773-f708-f20c92736926"
      },
      "execution_count": null,
      "outputs": [
        {
          "output_type": "stream",
          "name": "stdout",
          "text": [
            "Requirement already satisfied: top2vec in c:\\users\\bgarikip\\myenv\\lib\\site-packages (1.0.34)\n",
            "Requirement already satisfied: numpy>=1.20.0 in c:\\users\\bgarikip\\myenv\\lib\\site-packages (from top2vec) (1.26.2)\n",
            "Requirement already satisfied: pandas in c:\\users\\bgarikip\\myenv\\lib\\site-packages (from top2vec) (2.1.4)\n",
            "Requirement already satisfied: scikit-learn>=1.2.0 in c:\\users\\bgarikip\\myenv\\lib\\site-packages (from top2vec) (1.3.2)\n",
            "Requirement already satisfied: gensim>=4.0.0 in c:\\users\\bgarikip\\myenv\\lib\\site-packages (from top2vec) (4.3.2)\n",
            "Requirement already satisfied: umap-learn>=0.5.1 in c:\\users\\bgarikip\\myenv\\lib\\site-packages (from top2vec) (0.5.5)\n",
            "Requirement already satisfied: hdbscan>=0.8.27 in c:\\users\\bgarikip\\myenv\\lib\\site-packages (from top2vec) (0.8.33)\n",
            "Requirement already satisfied: wordcloud in c:\\users\\bgarikip\\myenv\\lib\\site-packages (from top2vec) (1.9.3)\n",
            "Requirement already satisfied: scipy>=1.7.0 in c:\\users\\bgarikip\\myenv\\lib\\site-packages (from gensim>=4.0.0->top2vec) (1.11.4)\n",
            "Requirement already satisfied: smart-open>=1.8.1 in c:\\users\\bgarikip\\myenv\\lib\\site-packages (from gensim>=4.0.0->top2vec) (6.4.0)\n",
            "Requirement already satisfied: cython<3,>=0.27 in c:\\users\\bgarikip\\myenv\\lib\\site-packages (from hdbscan>=0.8.27->top2vec) (0.29.36)\n",
            "Requirement already satisfied: joblib>=1.0 in c:\\users\\bgarikip\\myenv\\lib\\site-packages (from hdbscan>=0.8.27->top2vec) (1.3.2)\n",
            "Requirement already satisfied: threadpoolctl>=2.0.0 in c:\\users\\bgarikip\\myenv\\lib\\site-packages (from scikit-learn>=1.2.0->top2vec) (3.2.0)\n",
            "Requirement already satisfied: numba>=0.51.2 in c:\\users\\bgarikip\\myenv\\lib\\site-packages (from umap-learn>=0.5.1->top2vec) (0.58.1)\n",
            "Requirement already satisfied: pynndescent>=0.5 in c:\\users\\bgarikip\\myenv\\lib\\site-packages (from umap-learn>=0.5.1->top2vec) (0.5.11)\n",
            "Requirement already satisfied: tqdm in c:\\users\\bgarikip\\myenv\\lib\\site-packages (from umap-learn>=0.5.1->top2vec) (4.66.1)\n",
            "Requirement already satisfied: python-dateutil>=2.8.2 in c:\\users\\bgarikip\\myenv\\lib\\site-packages (from pandas->top2vec) (2.8.2)\n",
            "Requirement already satisfied: pytz>=2020.1 in c:\\users\\bgarikip\\myenv\\lib\\site-packages (from pandas->top2vec) (2023.3.post1)\n",
            "Requirement already satisfied: tzdata>=2022.1 in c:\\users\\bgarikip\\myenv\\lib\\site-packages (from pandas->top2vec) (2023.3)\n",
            "Requirement already satisfied: pillow in c:\\users\\bgarikip\\myenv\\lib\\site-packages (from wordcloud->top2vec) (10.1.0)\n",
            "Requirement already satisfied: matplotlib in c:\\users\\bgarikip\\myenv\\lib\\site-packages (from wordcloud->top2vec) (3.8.2)\n",
            "Requirement already satisfied: llvmlite<0.42,>=0.41.0dev0 in c:\\users\\bgarikip\\myenv\\lib\\site-packages (from numba>=0.51.2->umap-learn>=0.5.1->top2vec) (0.41.1)\n",
            "Requirement already satisfied: six>=1.5 in c:\\users\\bgarikip\\myenv\\lib\\site-packages (from python-dateutil>=2.8.2->pandas->top2vec) (1.16.0)\n",
            "Requirement already satisfied: contourpy>=1.0.1 in c:\\users\\bgarikip\\myenv\\lib\\site-packages (from matplotlib->wordcloud->top2vec) (1.2.0)\n",
            "Requirement already satisfied: cycler>=0.10 in c:\\users\\bgarikip\\myenv\\lib\\site-packages (from matplotlib->wordcloud->top2vec) (0.12.1)\n",
            "Requirement already satisfied: fonttools>=4.22.0 in c:\\users\\bgarikip\\myenv\\lib\\site-packages (from matplotlib->wordcloud->top2vec) (4.46.0)\n",
            "Requirement already satisfied: kiwisolver>=1.3.1 in c:\\users\\bgarikip\\myenv\\lib\\site-packages (from matplotlib->wordcloud->top2vec) (1.4.5)\n",
            "Requirement already satisfied: packaging>=20.0 in c:\\users\\bgarikip\\myenv\\lib\\site-packages (from matplotlib->wordcloud->top2vec) (23.2)\n",
            "Requirement already satisfied: pyparsing>=2.3.1 in c:\\users\\bgarikip\\myenv\\lib\\site-packages (from matplotlib->wordcloud->top2vec) (3.1.1)\n",
            "Requirement already satisfied: colorama in c:\\users\\bgarikip\\myenv\\lib\\site-packages (from tqdm->umap-learn>=0.5.1->top2vec) (0.4.6)\n",
            "Note: you may need to restart the kernel to use updated packages.\n"
          ]
        }
      ]
    },
    {
      "cell_type": "code",
      "source": [
        "pip install top2vec[sentence_transformers]\n"
      ],
      "metadata": {
        "colab": {
          "base_uri": "https://localhost:8080/"
        },
        "id": "9FTbbwDKabr9",
        "outputId": "6a2155d8-b6bd-4b77-87c3-fb10c20c563b"
      },
      "execution_count": null,
      "outputs": [
        {
          "output_type": "stream",
          "name": "stdout",
          "text": [
            "Requirement already satisfied: top2vec[sentence_transformers] in c:\\users\\bgarikip\\myenv\\lib\\site-packages (1.0.34)\n",
            "Requirement already satisfied: numpy>=1.20.0 in c:\\users\\bgarikip\\myenv\\lib\\site-packages (from top2vec[sentence_transformers]) (1.26.2)\n",
            "Requirement already satisfied: pandas in c:\\users\\bgarikip\\myenv\\lib\\site-packages (from top2vec[sentence_transformers]) (2.1.4)\n",
            "Requirement already satisfied: scikit-learn>=1.2.0 in c:\\users\\bgarikip\\myenv\\lib\\site-packages (from top2vec[sentence_transformers]) (1.3.2)\n",
            "Requirement already satisfied: gensim>=4.0.0 in c:\\users\\bgarikip\\myenv\\lib\\site-packages (from top2vec[sentence_transformers]) (4.3.2)\n",
            "Requirement already satisfied: umap-learn>=0.5.1 in c:\\users\\bgarikip\\myenv\\lib\\site-packages (from top2vec[sentence_transformers]) (0.5.5)\n",
            "Requirement already satisfied: hdbscan>=0.8.27 in c:\\users\\bgarikip\\myenv\\lib\\site-packages (from top2vec[sentence_transformers]) (0.8.33)\n",
            "Requirement already satisfied: wordcloud in c:\\users\\bgarikip\\myenv\\lib\\site-packages (from top2vec[sentence_transformers]) (1.9.3)\n",
            "Requirement already satisfied: torch in c:\\users\\bgarikip\\myenv\\lib\\site-packages (from top2vec[sentence_transformers]) (2.1.2)\n",
            "Requirement already satisfied: sentence-transformers in c:\\users\\bgarikip\\myenv\\lib\\site-packages (from top2vec[sentence_transformers]) (2.2.2)\n",
            "Requirement already satisfied: scipy>=1.7.0 in c:\\users\\bgarikip\\myenv\\lib\\site-packages (from gensim>=4.0.0->top2vec[sentence_transformers]) (1.11.4)\n",
            "Requirement already satisfied: smart-open>=1.8.1 in c:\\users\\bgarikip\\myenv\\lib\\site-packages (from gensim>=4.0.0->top2vec[sentence_transformers]) (6.4.0)\n",
            "Requirement already satisfied: cython<3,>=0.27 in c:\\users\\bgarikip\\myenv\\lib\\site-packages (from hdbscan>=0.8.27->top2vec[sentence_transformers]) (0.29.36)\n",
            "Requirement already satisfied: joblib>=1.0 in c:\\users\\bgarikip\\myenv\\lib\\site-packages (from hdbscan>=0.8.27->top2vec[sentence_transformers]) (1.3.2)\n",
            "Requirement already satisfied: threadpoolctl>=2.0.0 in c:\\users\\bgarikip\\myenv\\lib\\site-packages (from scikit-learn>=1.2.0->top2vec[sentence_transformers]) (3.2.0)\n",
            "Requirement already satisfied: numba>=0.51.2 in c:\\users\\bgarikip\\myenv\\lib\\site-packages (from umap-learn>=0.5.1->top2vec[sentence_transformers]) (0.58.1)\n",
            "Requirement already satisfied: pynndescent>=0.5 in c:\\users\\bgarikip\\myenv\\lib\\site-packages (from umap-learn>=0.5.1->top2vec[sentence_transformers]) (0.5.11)\n",
            "Requirement already satisfied: tqdm in c:\\users\\bgarikip\\myenv\\lib\\site-packages (from umap-learn>=0.5.1->top2vec[sentence_transformers]) (4.66.1)\n",
            "Requirement already satisfied: python-dateutil>=2.8.2 in c:\\users\\bgarikip\\myenv\\lib\\site-packages (from pandas->top2vec[sentence_transformers]) (2.8.2)\n",
            "Requirement already satisfied: pytz>=2020.1 in c:\\users\\bgarikip\\myenv\\lib\\site-packages (from pandas->top2vec[sentence_transformers]) (2023.3.post1)\n",
            "Requirement already satisfied: tzdata>=2022.1 in c:\\users\\bgarikip\\myenv\\lib\\site-packages (from pandas->top2vec[sentence_transformers]) (2023.3)\n",
            "Requirement already satisfied: transformers<5.0.0,>=4.6.0 in c:\\users\\bgarikip\\myenv\\lib\\site-packages (from sentence-transformers->top2vec[sentence_transformers]) (4.36.1)\n",
            "Requirement already satisfied: torchvision in c:\\users\\bgarikip\\myenv\\lib\\site-packages (from sentence-transformers->top2vec[sentence_transformers]) (0.16.2)\n",
            "Requirement already satisfied: nltk in c:\\users\\bgarikip\\myenv\\lib\\site-packages (from sentence-transformers->top2vec[sentence_transformers]) (3.8.1)\n",
            "Requirement already satisfied: sentencepiece in c:\\users\\bgarikip\\myenv\\lib\\site-packages (from sentence-transformers->top2vec[sentence_transformers]) (0.1.99)\n",
            "Requirement already satisfied: huggingface-hub>=0.4.0 in c:\\users\\bgarikip\\myenv\\lib\\site-packages (from sentence-transformers->top2vec[sentence_transformers]) (0.19.4)\n",
            "Requirement already satisfied: filelock in c:\\users\\bgarikip\\myenv\\lib\\site-packages (from torch->top2vec[sentence_transformers]) (3.13.1)\n",
            "Requirement already satisfied: typing-extensions in c:\\users\\bgarikip\\myenv\\lib\\site-packages (from torch->top2vec[sentence_transformers]) (4.9.0)\n",
            "Requirement already satisfied: sympy in c:\\users\\bgarikip\\myenv\\lib\\site-packages (from torch->top2vec[sentence_transformers]) (1.12)\n",
            "Requirement already satisfied: networkx in c:\\users\\bgarikip\\myenv\\lib\\site-packages (from torch->top2vec[sentence_transformers]) (3.2.1)\n",
            "Requirement already satisfied: jinja2 in c:\\users\\bgarikip\\myenv\\lib\\site-packages (from torch->top2vec[sentence_transformers]) (3.1.2)\n",
            "Requirement already satisfied: fsspec in c:\\users\\bgarikip\\myenv\\lib\\site-packages (from torch->top2vec[sentence_transformers]) (2023.12.2)\n",
            "Requirement already satisfied: pillow in c:\\users\\bgarikip\\myenv\\lib\\site-packages (from wordcloud->top2vec[sentence_transformers]) (10.1.0)\n",
            "Requirement already satisfied: matplotlib in c:\\users\\bgarikip\\myenv\\lib\\site-packages (from wordcloud->top2vec[sentence_transformers]) (3.8.2)\n",
            "Requirement already satisfied: requests in c:\\users\\bgarikip\\myenv\\lib\\site-packages (from huggingface-hub>=0.4.0->sentence-transformers->top2vec[sentence_transformers]) (2.31.0)\n",
            "Requirement already satisfied: pyyaml>=5.1 in c:\\users\\bgarikip\\myenv\\lib\\site-packages (from huggingface-hub>=0.4.0->sentence-transformers->top2vec[sentence_transformers]) (6.0.1)\n",
            "Requirement already satisfied: packaging>=20.9 in c:\\users\\bgarikip\\myenv\\lib\\site-packages (from huggingface-hub>=0.4.0->sentence-transformers->top2vec[sentence_transformers]) (23.2)\n",
            "Requirement already satisfied: llvmlite<0.42,>=0.41.0dev0 in c:\\users\\bgarikip\\myenv\\lib\\site-packages (from numba>=0.51.2->umap-learn>=0.5.1->top2vec[sentence_transformers]) (0.41.1)\n",
            "Requirement already satisfied: six>=1.5 in c:\\users\\bgarikip\\myenv\\lib\\site-packages (from python-dateutil>=2.8.2->pandas->top2vec[sentence_transformers]) (1.16.0)\n",
            "Requirement already satisfied: colorama in c:\\users\\bgarikip\\myenv\\lib\\site-packages (from tqdm->umap-learn>=0.5.1->top2vec[sentence_transformers]) (0.4.6)\n",
            "Requirement already satisfied: regex!=2019.12.17 in c:\\users\\bgarikip\\myenv\\lib\\site-packages (from transformers<5.0.0,>=4.6.0->sentence-transformers->top2vec[sentence_transformers]) (2023.10.3)\n",
            "Requirement already satisfied: tokenizers<0.19,>=0.14 in c:\\users\\bgarikip\\myenv\\lib\\site-packages (from transformers<5.0.0,>=4.6.0->sentence-transformers->top2vec[sentence_transformers]) (0.15.0)\n",
            "Requirement already satisfied: safetensors>=0.3.1 in c:\\users\\bgarikip\\myenv\\lib\\site-packages (from transformers<5.0.0,>=4.6.0->sentence-transformers->top2vec[sentence_transformers]) (0.4.1)\n",
            "Requirement already satisfied: MarkupSafe>=2.0 in c:\\users\\bgarikip\\myenv\\lib\\site-packages (from jinja2->torch->top2vec[sentence_transformers]) (2.1.3)\n",
            "Requirement already satisfied: contourpy>=1.0.1 in c:\\users\\bgarikip\\myenv\\lib\\site-packages (from matplotlib->wordcloud->top2vec[sentence_transformers]) (1.2.0)\n",
            "Requirement already satisfied: cycler>=0.10 in c:\\users\\bgarikip\\myenv\\lib\\site-packages (from matplotlib->wordcloud->top2vec[sentence_transformers]) (0.12.1)\n",
            "Requirement already satisfied: fonttools>=4.22.0 in c:\\users\\bgarikip\\myenv\\lib\\site-packages (from matplotlib->wordcloud->top2vec[sentence_transformers]) (4.46.0)\n",
            "Requirement already satisfied: kiwisolver>=1.3.1 in c:\\users\\bgarikip\\myenv\\lib\\site-packages (from matplotlib->wordcloud->top2vec[sentence_transformers]) (1.4.5)\n",
            "Requirement already satisfied: pyparsing>=2.3.1 in c:\\users\\bgarikip\\myenv\\lib\\site-packages (from matplotlib->wordcloud->top2vec[sentence_transformers]) (3.1.1)\n",
            "Requirement already satisfied: click in c:\\users\\bgarikip\\myenv\\lib\\site-packages (from nltk->sentence-transformers->top2vec[sentence_transformers]) (8.1.7)\n",
            "Requirement already satisfied: mpmath>=0.19 in c:\\users\\bgarikip\\myenv\\lib\\site-packages (from sympy->torch->top2vec[sentence_transformers]) (1.3.0)\n",
            "Requirement already satisfied: charset-normalizer<4,>=2 in c:\\users\\bgarikip\\myenv\\lib\\site-packages (from requests->huggingface-hub>=0.4.0->sentence-transformers->top2vec[sentence_transformers]) (3.3.2)\n",
            "Requirement already satisfied: idna<4,>=2.5 in c:\\users\\bgarikip\\myenv\\lib\\site-packages (from requests->huggingface-hub>=0.4.0->sentence-transformers->top2vec[sentence_transformers]) (3.6)\n",
            "Requirement already satisfied: urllib3<3,>=1.21.1 in c:\\users\\bgarikip\\myenv\\lib\\site-packages (from requests->huggingface-hub>=0.4.0->sentence-transformers->top2vec[sentence_transformers]) (2.1.0)\n",
            "Requirement already satisfied: certifi>=2017.4.17 in c:\\users\\bgarikip\\myenv\\lib\\site-packages (from requests->huggingface-hub>=0.4.0->sentence-transformers->top2vec[sentence_transformers]) (2023.11.17)\n",
            "Note: you may need to restart the kernel to use updated packages.\n"
          ]
        },
        {
          "output_type": "stream",
          "name": "stderr",
          "text": [
            "WARNING: top2vec 1.0.34 does not provide the extra 'sentence-transformers'\n"
          ]
        }
      ]
    },
    {
      "cell_type": "code",
      "source": [
        "pip install top2vec[indexing]\n"
      ],
      "metadata": {
        "colab": {
          "base_uri": "https://localhost:8080/"
        },
        "id": "OhHjmLB2atmC",
        "outputId": "1a90fd5c-3858-4f59-df45-32e3ad859e4f"
      },
      "execution_count": null,
      "outputs": [
        {
          "output_type": "stream",
          "name": "stdout",
          "text": [
            "Requirement already satisfied: top2vec[indexing] in c:\\users\\bgarikip\\myenv\\lib\\site-packages (1.0.34)\n",
            "Requirement already satisfied: numpy>=1.20.0 in c:\\users\\bgarikip\\myenv\\lib\\site-packages (from top2vec[indexing]) (1.26.2)\n",
            "Requirement already satisfied: pandas in c:\\users\\bgarikip\\myenv\\lib\\site-packages (from top2vec[indexing]) (2.1.4)\n",
            "Requirement already satisfied: scikit-learn>=1.2.0 in c:\\users\\bgarikip\\myenv\\lib\\site-packages (from top2vec[indexing]) (1.3.2)\n",
            "Requirement already satisfied: gensim>=4.0.0 in c:\\users\\bgarikip\\myenv\\lib\\site-packages (from top2vec[indexing]) (4.3.2)\n",
            "Requirement already satisfied: umap-learn>=0.5.1 in c:\\users\\bgarikip\\myenv\\lib\\site-packages (from top2vec[indexing]) (0.5.5)\n",
            "Requirement already satisfied: hdbscan>=0.8.27 in c:\\users\\bgarikip\\myenv\\lib\\site-packages (from top2vec[indexing]) (0.8.33)\n",
            "Requirement already satisfied: wordcloud in c:\\users\\bgarikip\\myenv\\lib\\site-packages (from top2vec[indexing]) (1.9.3)\n",
            "Requirement already satisfied: hnswlib in c:\\users\\bgarikip\\myenv\\lib\\site-packages (from top2vec[indexing]) (0.8.0)\n",
            "Requirement already satisfied: scipy>=1.7.0 in c:\\users\\bgarikip\\myenv\\lib\\site-packages (from gensim>=4.0.0->top2vec[indexing]) (1.11.4)\n",
            "Requirement already satisfied: smart-open>=1.8.1 in c:\\users\\bgarikip\\myenv\\lib\\site-packages (from gensim>=4.0.0->top2vec[indexing]) (6.4.0)\n",
            "Requirement already satisfied: cython<3,>=0.27 in c:\\users\\bgarikip\\myenv\\lib\\site-packages (from hdbscan>=0.8.27->top2vec[indexing]) (0.29.36)\n",
            "Requirement already satisfied: joblib>=1.0 in c:\\users\\bgarikip\\myenv\\lib\\site-packages (from hdbscan>=0.8.27->top2vec[indexing]) (1.3.2)\n",
            "Requirement already satisfied: threadpoolctl>=2.0.0 in c:\\users\\bgarikip\\myenv\\lib\\site-packages (from scikit-learn>=1.2.0->top2vec[indexing]) (3.2.0)\n",
            "Requirement already satisfied: numba>=0.51.2 in c:\\users\\bgarikip\\myenv\\lib\\site-packages (from umap-learn>=0.5.1->top2vec[indexing]) (0.58.1)\n",
            "Requirement already satisfied: pynndescent>=0.5 in c:\\users\\bgarikip\\myenv\\lib\\site-packages (from umap-learn>=0.5.1->top2vec[indexing]) (0.5.11)\n",
            "Requirement already satisfied: tqdm in c:\\users\\bgarikip\\myenv\\lib\\site-packages (from umap-learn>=0.5.1->top2vec[indexing]) (4.66.1)\n",
            "Requirement already satisfied: python-dateutil>=2.8.2 in c:\\users\\bgarikip\\myenv\\lib\\site-packages (from pandas->top2vec[indexing]) (2.8.2)\n",
            "Requirement already satisfied: pytz>=2020.1 in c:\\users\\bgarikip\\myenv\\lib\\site-packages (from pandas->top2vec[indexing]) (2023.3.post1)\n",
            "Requirement already satisfied: tzdata>=2022.1 in c:\\users\\bgarikip\\myenv\\lib\\site-packages (from pandas->top2vec[indexing]) (2023.3)\n",
            "Requirement already satisfied: pillow in c:\\users\\bgarikip\\myenv\\lib\\site-packages (from wordcloud->top2vec[indexing]) (10.1.0)\n",
            "Requirement already satisfied: matplotlib in c:\\users\\bgarikip\\myenv\\lib\\site-packages (from wordcloud->top2vec[indexing]) (3.8.2)\n",
            "Requirement already satisfied: llvmlite<0.42,>=0.41.0dev0 in c:\\users\\bgarikip\\myenv\\lib\\site-packages (from numba>=0.51.2->umap-learn>=0.5.1->top2vec[indexing]) (0.41.1)\n",
            "Requirement already satisfied: six>=1.5 in c:\\users\\bgarikip\\myenv\\lib\\site-packages (from python-dateutil>=2.8.2->pandas->top2vec[indexing]) (1.16.0)\n",
            "Requirement already satisfied: contourpy>=1.0.1 in c:\\users\\bgarikip\\myenv\\lib\\site-packages (from matplotlib->wordcloud->top2vec[indexing]) (1.2.0)\n",
            "Requirement already satisfied: cycler>=0.10 in c:\\users\\bgarikip\\myenv\\lib\\site-packages (from matplotlib->wordcloud->top2vec[indexing]) (0.12.1)\n",
            "Requirement already satisfied: fonttools>=4.22.0 in c:\\users\\bgarikip\\myenv\\lib\\site-packages (from matplotlib->wordcloud->top2vec[indexing]) (4.46.0)\n",
            "Requirement already satisfied: kiwisolver>=1.3.1 in c:\\users\\bgarikip\\myenv\\lib\\site-packages (from matplotlib->wordcloud->top2vec[indexing]) (1.4.5)\n",
            "Requirement already satisfied: packaging>=20.0 in c:\\users\\bgarikip\\myenv\\lib\\site-packages (from matplotlib->wordcloud->top2vec[indexing]) (23.2)\n",
            "Requirement already satisfied: pyparsing>=2.3.1 in c:\\users\\bgarikip\\myenv\\lib\\site-packages (from matplotlib->wordcloud->top2vec[indexing]) (3.1.1)\n",
            "Requirement already satisfied: colorama in c:\\users\\bgarikip\\myenv\\lib\\site-packages (from tqdm->umap-learn>=0.5.1->top2vec[indexing]) (0.4.6)\n",
            "Note: you may need to restart the kernel to use updated packages.\n"
          ]
        }
      ]
    },
    {
      "cell_type": "code",
      "source": [
        "pip install top2vec[sentence_encoders]\n"
      ],
      "metadata": {
        "id": "OLH2rtdbyFBz",
        "colab": {
          "base_uri": "https://localhost:8080/"
        },
        "outputId": "6f3e7ad1-f9c7-4d5d-cbeb-5e8f16c7b01c"
      },
      "execution_count": null,
      "outputs": [
        {
          "output_type": "stream",
          "name": "stdout",
          "text": [
            "Requirement already satisfied: top2vec[sentence_encoders] in c:\\users\\bgarikip\\myenv\\lib\\site-packages (1.0.34)\n",
            "Requirement already satisfied: numpy>=1.20.0 in c:\\users\\bgarikip\\myenv\\lib\\site-packages (from top2vec[sentence_encoders]) (1.26.2)\n",
            "Requirement already satisfied: pandas in c:\\users\\bgarikip\\myenv\\lib\\site-packages (from top2vec[sentence_encoders]) (2.1.4)\n",
            "Requirement already satisfied: scikit-learn>=1.2.0 in c:\\users\\bgarikip\\myenv\\lib\\site-packages (from top2vec[sentence_encoders]) (1.3.2)\n",
            "Requirement already satisfied: gensim>=4.0.0 in c:\\users\\bgarikip\\myenv\\lib\\site-packages (from top2vec[sentence_encoders]) (4.3.2)\n",
            "Requirement already satisfied: umap-learn>=0.5.1 in c:\\users\\bgarikip\\myenv\\lib\\site-packages (from top2vec[sentence_encoders]) (0.5.5)\n",
            "Requirement already satisfied: hdbscan>=0.8.27 in c:\\users\\bgarikip\\myenv\\lib\\site-packages (from top2vec[sentence_encoders]) (0.8.33)\n",
            "Requirement already satisfied: wordcloud in c:\\users\\bgarikip\\myenv\\lib\\site-packages (from top2vec[sentence_encoders]) (1.9.3)\n",
            "Requirement already satisfied: tensorflow in c:\\users\\bgarikip\\myenv\\lib\\site-packages (from top2vec[sentence_encoders]) (2.10.1)\n",
            "Requirement already satisfied: tensorflow-hub in c:\\users\\bgarikip\\myenv\\lib\\site-packages (from top2vec[sentence_encoders]) (0.15.0)\n",
            "Requirement already satisfied: tensorflow-text in c:\\users\\bgarikip\\myenv\\lib\\site-packages (from top2vec[sentence_encoders]) (2.10.0)\n",
            "Requirement already satisfied: scipy>=1.7.0 in c:\\users\\bgarikip\\myenv\\lib\\site-packages (from gensim>=4.0.0->top2vec[sentence_encoders]) (1.11.4)\n",
            "Requirement already satisfied: smart-open>=1.8.1 in c:\\users\\bgarikip\\myenv\\lib\\site-packages (from gensim>=4.0.0->top2vec[sentence_encoders]) (6.4.0)\n",
            "Requirement already satisfied: cython<3,>=0.27 in c:\\users\\bgarikip\\myenv\\lib\\site-packages (from hdbscan>=0.8.27->top2vec[sentence_encoders]) (0.29.36)\n",
            "Requirement already satisfied: joblib>=1.0 in c:\\users\\bgarikip\\myenv\\lib\\site-packages (from hdbscan>=0.8.27->top2vec[sentence_encoders]) (1.3.2)\n",
            "Requirement already satisfied: threadpoolctl>=2.0.0 in c:\\users\\bgarikip\\myenv\\lib\\site-packages (from scikit-learn>=1.2.0->top2vec[sentence_encoders]) (3.2.0)\n",
            "Requirement already satisfied: numba>=0.51.2 in c:\\users\\bgarikip\\myenv\\lib\\site-packages (from umap-learn>=0.5.1->top2vec[sentence_encoders]) (0.58.1)\n",
            "Requirement already satisfied: pynndescent>=0.5 in c:\\users\\bgarikip\\myenv\\lib\\site-packages (from umap-learn>=0.5.1->top2vec[sentence_encoders]) (0.5.11)\n",
            "Requirement already satisfied: tqdm in c:\\users\\bgarikip\\myenv\\lib\\site-packages (from umap-learn>=0.5.1->top2vec[sentence_encoders]) (4.66.1)\n",
            "Requirement already satisfied: python-dateutil>=2.8.2 in c:\\users\\bgarikip\\myenv\\lib\\site-packages (from pandas->top2vec[sentence_encoders]) (2.8.2)\n",
            "Requirement already satisfied: pytz>=2020.1 in c:\\users\\bgarikip\\myenv\\lib\\site-packages (from pandas->top2vec[sentence_encoders]) (2023.3.post1)\n",
            "Requirement already satisfied: tzdata>=2022.1 in c:\\users\\bgarikip\\myenv\\lib\\site-packages (from pandas->top2vec[sentence_encoders]) (2023.3)\n",
            "Requirement already satisfied: absl-py>=1.0.0 in c:\\users\\bgarikip\\myenv\\lib\\site-packages (from tensorflow->top2vec[sentence_encoders]) (2.0.0)\n",
            "Requirement already satisfied: astunparse>=1.6.0 in c:\\users\\bgarikip\\myenv\\lib\\site-packages (from tensorflow->top2vec[sentence_encoders]) (1.6.3)\n",
            "Requirement already satisfied: flatbuffers>=2.0 in c:\\users\\bgarikip\\myenv\\lib\\site-packages (from tensorflow->top2vec[sentence_encoders]) (23.5.26)\n",
            "Requirement already satisfied: gast<=0.4.0,>=0.2.1 in c:\\users\\bgarikip\\myenv\\lib\\site-packages (from tensorflow->top2vec[sentence_encoders]) (0.4.0)\n",
            "Requirement already satisfied: google-pasta>=0.1.1 in c:\\users\\bgarikip\\myenv\\lib\\site-packages (from tensorflow->top2vec[sentence_encoders]) (0.2.0)\n",
            "Requirement already satisfied: h5py>=2.9.0 in c:\\users\\bgarikip\\myenv\\lib\\site-packages (from tensorflow->top2vec[sentence_encoders]) (3.10.0)\n",
            "Requirement already satisfied: keras-preprocessing>=1.1.1 in c:\\users\\bgarikip\\myenv\\lib\\site-packages (from tensorflow->top2vec[sentence_encoders]) (1.1.2)\n",
            "Requirement already satisfied: libclang>=13.0.0 in c:\\users\\bgarikip\\myenv\\lib\\site-packages (from tensorflow->top2vec[sentence_encoders]) (16.0.6)\n",
            "Requirement already satisfied: opt-einsum>=2.3.2 in c:\\users\\bgarikip\\myenv\\lib\\site-packages (from tensorflow->top2vec[sentence_encoders]) (3.3.0)\n",
            "Requirement already satisfied: packaging in c:\\users\\bgarikip\\myenv\\lib\\site-packages (from tensorflow->top2vec[sentence_encoders]) (23.2)\n",
            "Requirement already satisfied: protobuf<3.20,>=3.9.2 in c:\\users\\bgarikip\\myenv\\lib\\site-packages (from tensorflow->top2vec[sentence_encoders]) (3.19.6)\n",
            "Requirement already satisfied: setuptools in c:\\users\\bgarikip\\myenv\\lib\\site-packages (from tensorflow->top2vec[sentence_encoders]) (65.5.0)\n",
            "Requirement already satisfied: six>=1.12.0 in c:\\users\\bgarikip\\myenv\\lib\\site-packages (from tensorflow->top2vec[sentence_encoders]) (1.16.0)\n",
            "Requirement already satisfied: termcolor>=1.1.0 in c:\\users\\bgarikip\\myenv\\lib\\site-packages (from tensorflow->top2vec[sentence_encoders]) (2.4.0)\n",
            "Requirement already satisfied: typing-extensions>=3.6.6 in c:\\users\\bgarikip\\myenv\\lib\\site-packages (from tensorflow->top2vec[sentence_encoders]) (4.9.0)\n",
            "Requirement already satisfied: wrapt>=1.11.0 in c:\\users\\bgarikip\\myenv\\lib\\site-packages (from tensorflow->top2vec[sentence_encoders]) (1.14.1)\n",
            "Requirement already satisfied: tensorflow-io-gcs-filesystem>=0.23.1 in c:\\users\\bgarikip\\myenv\\lib\\site-packages (from tensorflow->top2vec[sentence_encoders]) (0.31.0)\n",
            "Requirement already satisfied: grpcio<2.0,>=1.24.3 in c:\\users\\bgarikip\\myenv\\lib\\site-packages (from tensorflow->top2vec[sentence_encoders]) (1.60.0)\n",
            "Requirement already satisfied: tensorboard<2.11,>=2.10 in c:\\users\\bgarikip\\myenv\\lib\\site-packages (from tensorflow->top2vec[sentence_encoders]) (2.10.1)\n",
            "Requirement already satisfied: tensorflow-estimator<2.11,>=2.10.0 in c:\\users\\bgarikip\\myenv\\lib\\site-packages (from tensorflow->top2vec[sentence_encoders]) (2.10.0)\n",
            "Requirement already satisfied: keras<2.11,>=2.10.0 in c:\\users\\bgarikip\\myenv\\lib\\site-packages (from tensorflow->top2vec[sentence_encoders]) (2.10.0)\n",
            "Requirement already satisfied: pillow in c:\\users\\bgarikip\\myenv\\lib\\site-packages (from wordcloud->top2vec[sentence_encoders]) (10.1.0)\n",
            "Requirement already satisfied: matplotlib in c:\\users\\bgarikip\\myenv\\lib\\site-packages (from wordcloud->top2vec[sentence_encoders]) (3.8.2)\n",
            "Requirement already satisfied: wheel<1.0,>=0.23.0 in c:\\users\\bgarikip\\myenv\\lib\\site-packages (from astunparse>=1.6.0->tensorflow->top2vec[sentence_encoders]) (0.42.0)\n",
            "Requirement already satisfied: llvmlite<0.42,>=0.41.0dev0 in c:\\users\\bgarikip\\myenv\\lib\\site-packages (from numba>=0.51.2->umap-learn>=0.5.1->top2vec[sentence_encoders]) (0.41.1)\n",
            "Requirement already satisfied: google-auth<3,>=1.6.3 in c:\\users\\bgarikip\\myenv\\lib\\site-packages (from tensorboard<2.11,>=2.10->tensorflow->top2vec[sentence_encoders]) (2.25.2)\n",
            "Requirement already satisfied: google-auth-oauthlib<0.5,>=0.4.1 in c:\\users\\bgarikip\\myenv\\lib\\site-packages (from tensorboard<2.11,>=2.10->tensorflow->top2vec[sentence_encoders]) (0.4.6)\n",
            "Requirement already satisfied: markdown>=2.6.8 in c:\\users\\bgarikip\\myenv\\lib\\site-packages (from tensorboard<2.11,>=2.10->tensorflow->top2vec[sentence_encoders]) (3.5.1)\n",
            "Requirement already satisfied: requests<3,>=2.21.0 in c:\\users\\bgarikip\\myenv\\lib\\site-packages (from tensorboard<2.11,>=2.10->tensorflow->top2vec[sentence_encoders]) (2.31.0)\n",
            "Requirement already satisfied: tensorboard-data-server<0.7.0,>=0.6.0 in c:\\users\\bgarikip\\myenv\\lib\\site-packages (from tensorboard<2.11,>=2.10->tensorflow->top2vec[sentence_encoders]) (0.6.1)\n",
            "Requirement already satisfied: tensorboard-plugin-wit>=1.6.0 in c:\\users\\bgarikip\\myenv\\lib\\site-packages (from tensorboard<2.11,>=2.10->tensorflow->top2vec[sentence_encoders]) (1.8.1)\n",
            "Requirement already satisfied: werkzeug>=1.0.1 in c:\\users\\bgarikip\\myenv\\lib\\site-packages (from tensorboard<2.11,>=2.10->tensorflow->top2vec[sentence_encoders]) (3.0.1)\n",
            "Requirement already satisfied: contourpy>=1.0.1 in c:\\users\\bgarikip\\myenv\\lib\\site-packages (from matplotlib->wordcloud->top2vec[sentence_encoders]) (1.2.0)\n",
            "Requirement already satisfied: cycler>=0.10 in c:\\users\\bgarikip\\myenv\\lib\\site-packages (from matplotlib->wordcloud->top2vec[sentence_encoders]) (0.12.1)\n",
            "Requirement already satisfied: fonttools>=4.22.0 in c:\\users\\bgarikip\\myenv\\lib\\site-packages (from matplotlib->wordcloud->top2vec[sentence_encoders]) (4.46.0)\n",
            "Requirement already satisfied: kiwisolver>=1.3.1 in c:\\users\\bgarikip\\myenv\\lib\\site-packages (from matplotlib->wordcloud->top2vec[sentence_encoders]) (1.4.5)\n",
            "Requirement already satisfied: pyparsing>=2.3.1 in c:\\users\\bgarikip\\myenv\\lib\\site-packages (from matplotlib->wordcloud->top2vec[sentence_encoders]) (3.1.1)\n",
            "Requirement already satisfied: colorama in c:\\users\\bgarikip\\myenv\\lib\\site-packages (from tqdm->umap-learn>=0.5.1->top2vec[sentence_encoders]) (0.4.6)\n",
            "Requirement already satisfied: cachetools<6.0,>=2.0.0 in c:\\users\\bgarikip\\myenv\\lib\\site-packages (from google-auth<3,>=1.6.3->tensorboard<2.11,>=2.10->tensorflow->top2vec[sentence_encoders]) (5.3.2)\n",
            "Requirement already satisfied: pyasn1-modules>=0.2.1 in c:\\users\\bgarikip\\myenv\\lib\\site-packages (from google-auth<3,>=1.6.3->tensorboard<2.11,>=2.10->tensorflow->top2vec[sentence_encoders]) (0.3.0)\n",
            "Requirement already satisfied: rsa<5,>=3.1.4 in c:\\users\\bgarikip\\myenv\\lib\\site-packages (from google-auth<3,>=1.6.3->tensorboard<2.11,>=2.10->tensorflow->top2vec[sentence_encoders]) (4.9)\n",
            "Requirement already satisfied: requests-oauthlib>=0.7.0 in c:\\users\\bgarikip\\myenv\\lib\\site-packages (from google-auth-oauthlib<0.5,>=0.4.1->tensorboard<2.11,>=2.10->tensorflow->top2vec[sentence_encoders]) (1.3.1)\n",
            "Requirement already satisfied: charset-normalizer<4,>=2 in c:\\users\\bgarikip\\myenv\\lib\\site-packages (from requests<3,>=2.21.0->tensorboard<2.11,>=2.10->tensorflow->top2vec[sentence_encoders]) (3.3.2)\n",
            "Requirement already satisfied: idna<4,>=2.5 in c:\\users\\bgarikip\\myenv\\lib\\site-packages (from requests<3,>=2.21.0->tensorboard<2.11,>=2.10->tensorflow->top2vec[sentence_encoders]) (3.6)\n",
            "Requirement already satisfied: urllib3<3,>=1.21.1 in c:\\users\\bgarikip\\myenv\\lib\\site-packages (from requests<3,>=2.21.0->tensorboard<2.11,>=2.10->tensorflow->top2vec[sentence_encoders]) (2.1.0)\n",
            "Requirement already satisfied: certifi>=2017.4.17 in c:\\users\\bgarikip\\myenv\\lib\\site-packages (from requests<3,>=2.21.0->tensorboard<2.11,>=2.10->tensorflow->top2vec[sentence_encoders]) (2023.11.17)\n",
            "Requirement already satisfied: MarkupSafe>=2.1.1 in c:\\users\\bgarikip\\myenv\\lib\\site-packages (from werkzeug>=1.0.1->tensorboard<2.11,>=2.10->tensorflow->top2vec[sentence_encoders]) (2.1.3)\n",
            "Requirement already satisfied: pyasn1<0.6.0,>=0.4.6 in c:\\users\\bgarikip\\myenv\\lib\\site-packages (from pyasn1-modules>=0.2.1->google-auth<3,>=1.6.3->tensorboard<2.11,>=2.10->tensorflow->top2vec[sentence_encoders]) (0.5.1)\n",
            "Requirement already satisfied: oauthlib>=3.0.0 in c:\\users\\bgarikip\\myenv\\lib\\site-packages (from requests-oauthlib>=0.7.0->google-auth-oauthlib<0.5,>=0.4.1->tensorboard<2.11,>=2.10->tensorflow->top2vec[sentence_encoders]) (3.2.2)\n",
            "Note: you may need to restart the kernel to use updated packages.\n"
          ]
        },
        {
          "output_type": "stream",
          "name": "stderr",
          "text": [
            "WARNING: top2vec 1.0.34 does not provide the extra 'sentence-encoders'\n"
          ]
        }
      ]
    },
    {
      "cell_type": "code",
      "source": [
        "pip install ipywidgets"
      ],
      "metadata": {
        "id": "3UZNN9g7Q7nr",
        "colab": {
          "base_uri": "https://localhost:8080/"
        },
        "outputId": "ab1ef668-1fb4-4eb3-aaac-fef604ce8854"
      },
      "execution_count": null,
      "outputs": [
        {
          "output_type": "stream",
          "name": "stdout",
          "text": [
            "Requirement already satisfied: ipywidgets in c:\\users\\bgarikip\\myenv\\lib\\site-packages (8.1.1)\n",
            "Requirement already satisfied: comm>=0.1.3 in c:\\users\\bgarikip\\myenv\\lib\\site-packages (from ipywidgets) (0.2.0)\n",
            "Requirement already satisfied: ipython>=6.1.0 in c:\\users\\bgarikip\\myenv\\lib\\site-packages (from ipywidgets) (8.18.1)\n",
            "Requirement already satisfied: traitlets>=4.3.1 in c:\\users\\bgarikip\\myenv\\lib\\site-packages (from ipywidgets) (5.14.0)\n",
            "Requirement already satisfied: widgetsnbextension~=4.0.9 in c:\\users\\bgarikip\\myenv\\lib\\site-packages (from ipywidgets) (4.0.9)\n",
            "Requirement already satisfied: jupyterlab-widgets~=3.0.9 in c:\\users\\bgarikip\\myenv\\lib\\site-packages (from ipywidgets) (3.0.9)\n",
            "Requirement already satisfied: decorator in c:\\users\\bgarikip\\myenv\\lib\\site-packages (from ipython>=6.1.0->ipywidgets) (5.1.1)\n",
            "Requirement already satisfied: jedi>=0.16 in c:\\users\\bgarikip\\myenv\\lib\\site-packages (from ipython>=6.1.0->ipywidgets) (0.19.1)\n",
            "Requirement already satisfied: matplotlib-inline in c:\\users\\bgarikip\\myenv\\lib\\site-packages (from ipython>=6.1.0->ipywidgets) (0.1.6)\n",
            "Requirement already satisfied: prompt-toolkit<3.1.0,>=3.0.41 in c:\\users\\bgarikip\\myenv\\lib\\site-packages (from ipython>=6.1.0->ipywidgets) (3.0.43)\n",
            "Requirement already satisfied: pygments>=2.4.0 in c:\\users\\bgarikip\\myenv\\lib\\site-packages (from ipython>=6.1.0->ipywidgets) (2.17.2)\n",
            "Requirement already satisfied: stack-data in c:\\users\\bgarikip\\myenv\\lib\\site-packages (from ipython>=6.1.0->ipywidgets) (0.6.3)\n",
            "Requirement already satisfied: exceptiongroup in c:\\users\\bgarikip\\myenv\\lib\\site-packages (from ipython>=6.1.0->ipywidgets) (1.2.0)\n",
            "Requirement already satisfied: colorama in c:\\users\\bgarikip\\myenv\\lib\\site-packages (from ipython>=6.1.0->ipywidgets) (0.4.6)\n",
            "Requirement already satisfied: parso<0.9.0,>=0.8.3 in c:\\users\\bgarikip\\myenv\\lib\\site-packages (from jedi>=0.16->ipython>=6.1.0->ipywidgets) (0.8.3)\n",
            "Requirement already satisfied: wcwidth in c:\\users\\bgarikip\\myenv\\lib\\site-packages (from prompt-toolkit<3.1.0,>=3.0.41->ipython>=6.1.0->ipywidgets) (0.2.12)\n",
            "Requirement already satisfied: executing>=1.2.0 in c:\\users\\bgarikip\\myenv\\lib\\site-packages (from stack-data->ipython>=6.1.0->ipywidgets) (2.0.1)\n",
            "Requirement already satisfied: asttokens>=2.1.0 in c:\\users\\bgarikip\\myenv\\lib\\site-packages (from stack-data->ipython>=6.1.0->ipywidgets) (2.4.1)\n",
            "Requirement already satisfied: pure-eval in c:\\users\\bgarikip\\myenv\\lib\\site-packages (from stack-data->ipython>=6.1.0->ipywidgets) (0.2.2)\n",
            "Requirement already satisfied: six>=1.12.0 in c:\\users\\bgarikip\\myenv\\lib\\site-packages (from asttokens>=2.1.0->stack-data->ipython>=6.1.0->ipywidgets) (1.16.0)\n",
            "Note: you may need to restart the kernel to use updated packages.\n"
          ]
        }
      ]
    },
    {
      "cell_type": "code",
      "source": [
        "import os\n",
        "from top2vec import Top2Vec\n",
        "\n",
        "# Number of CPU cores\n",
        "num_cores = os.cpu_count()\n",
        "\n",
        "print(num_cores)\n"
      ],
      "metadata": {
        "colab": {
          "base_uri": "https://localhost:8080/"
        },
        "id": "U96E-2v5o2Yh",
        "outputId": "29ca3ccc-61b5-4b4a-a8bf-f49cade35e64"
      },
      "execution_count": null,
      "outputs": [
        {
          "output_type": "stream",
          "name": "stdout",
          "text": [
            "16\n"
          ]
        }
      ]
    },
    {
      "cell_type": "code",
      "source": [
        "from top2vec import Top2Vec\n",
        "# Extracting the 'clean_data' column\n",
        "text_data = train_df['clean_data'].dropna().tolist()\n",
        "\n",
        "# Create the Top2Vec model\n",
        "modeltop2vec = Top2Vec(documents=text_data, speed='learn', workers=num_cores)"
      ],
      "metadata": {
        "id": "2hUDZ2noyjbU",
        "colab": {
          "base_uri": "https://localhost:8080/"
        },
        "outputId": "5c816636-ceb6-4d34-af1b-7eeedbae64d2"
      },
      "execution_count": null,
      "outputs": [
        {
          "output_type": "stream",
          "name": "stderr",
          "text": [
            "2023-12-18 23:17:43,366 - top2vec - INFO - Pre-processing documents for training\n",
            "INFO:top2vec:Pre-processing documents for training\n",
            "C:\\Users\\bgarikip\\myenv\\lib\\site-packages\\sklearn\\feature_extraction\\text.py:525: UserWarning: The parameter 'token_pattern' will not be used since 'tokenizer' is not None'\n",
            "  warnings.warn(\n",
            "2023-12-18 23:17:43,459 - top2vec - INFO - Downloading universal-sentence-encoder-multilingual model\n",
            "INFO:top2vec:Downloading universal-sentence-encoder-multilingual model\n",
            "2023-12-18 23:17:45,315 - top2vec - INFO - Creating joint document/word embedding\n",
            "INFO:top2vec:Creating joint document/word embedding\n",
            "2023-12-18 23:18:00,289 - top2vec - INFO - Creating lower dimension embedding of documents\n",
            "INFO:top2vec:Creating lower dimension embedding of documents\n",
            "2023-12-18 23:18:08,900 - top2vec - INFO - Finding dense areas of documents\n",
            "INFO:top2vec:Finding dense areas of documents\n",
            "2023-12-18 23:18:08,999 - top2vec - INFO - Finding topics\n",
            "INFO:top2vec:Finding topics\n"
          ]
        }
      ]
    },
    {
      "cell_type": "code",
      "source": [
        "modeltop2vec.get_num_topics()"
      ],
      "metadata": {
        "id": "lblscrN3ynki",
        "colab": {
          "base_uri": "https://localhost:8080/"
        },
        "outputId": "50174e3f-0c2c-4157-a7a9-c75e2e4cc33d"
      },
      "execution_count": null,
      "outputs": [
        {
          "output_type": "execute_result",
          "data": {
            "text/plain": [
              "4"
            ]
          },
          "metadata": {},
          "execution_count": 568
        }
      ]
    },
    {
      "cell_type": "code",
      "source": [
        "topic_sizes , topic_nums = modeltop2vec.get_topic_sizes()\n",
        "print(topic_nums)"
      ],
      "metadata": {
        "id": "tN02k-DqyrLa",
        "colab": {
          "base_uri": "https://localhost:8080/"
        },
        "outputId": "92d7a600-888d-4793-c25c-1a39256bc5a6"
      },
      "execution_count": null,
      "outputs": [
        {
          "output_type": "stream",
          "name": "stdout",
          "text": [
            "[0 1 2 3]\n"
          ]
        }
      ]
    },
    {
      "cell_type": "code",
      "source": [
        "topic_words,word_scores,topic_nums = modeltop2vec.get_topics(3)\n",
        "for words , scores, num in zip(topic_words,word_scores,topic_nums):\n",
        "    print(num)\n",
        "    print(f\"words:{words}\")"
      ],
      "metadata": {
        "id": "tECDOuReytgq",
        "colab": {
          "base_uri": "https://localhost:8080/"
        },
        "outputId": "732e77d9-c56f-45ce-d175-316eb8a24569"
      },
      "execution_count": null,
      "outputs": [
        {
          "output_type": "stream",
          "name": "stdout",
          "text": [
            "0\n",
            "words:['hillary' 'clinton' 'trump' 'obama' 'republican' 'president' 'vote'\n",
            " 'bernie' 'thank' 'poll' 'dishonest' 'america' 'americafirst' 'wow' 'bad'\n",
            " 'rally' 'imwithyou' 'debate' 'campaign' 'great' 'crooked' 'american'\n",
            " 'win' 'amazing' 'good' 'tonight' 'florida' 'ted' 'much' 'last' 'never'\n",
            " 'love' 'get' 'totally' 'join' 'ohio' 'go' 'people' 'said' 'today' 'many'\n",
            " 'tomorrow' 'media' 'speech' 'would' 'big' 'draintheswamp' 'interviewed'\n",
            " 'carolina' 'enjoy']\n",
            "1\n",
            "words:['america' 'americafirst' 'american' 'obama' 'great' 'trump' 'amazing'\n",
            " 'president' 'wow' 'vote' 'hillary' 'good' 'republican' 'win' 'clinton'\n",
            " 'bernie' 'country' 'big' 'join' 'make' 'enjoy' 'thank' 'go' 'florida'\n",
            " 'rally' 'get' 'media' 'much' 'campaign' 'imwithyou' 'bad' 'love' 'show'\n",
            " 'speech' 'soon' 'cruz' 'tomorrow' 'us' 'poll' 'crooked' 'ted' 'like'\n",
            " 'want' 'draintheswamp' 'maga' 'many' 'would' 'debate' 'watch' 'ohio']\n",
            "2\n",
            "words:['obama' 'hillary' 'trump' 'republican' 'president' 'clinton' 'bernie'\n",
            " 'crooked' 'vote' 'dishonest' 'draintheswamp' 'bad' 'campaign'\n",
            " 'americafirst' 'rally' 'get' 'america' 'florida' 'go' 'ted' 'last' 'make'\n",
            " 'wow' 'thank' 'back' 'much' 'said' 'going' 'ohio' 'imwithyou' 'debate'\n",
            " 'want' 'would' 'new' 'american' 'join' 'good' 'tomorrow' 'win' 'totally'\n",
            " 'many' 'see' 'poll' 'love' 'speech' 'great' 'soon' 'never' 'like' 'job']\n"
          ]
        }
      ]
    },
    {
      "cell_type": "code",
      "source": [
        "train_df.head()"
      ],
      "metadata": {
        "id": "xRsMHOXQywqC",
        "colab": {
          "base_uri": "https://localhost:8080/",
          "height": 429
        },
        "outputId": "3c968a38-6e6b-40f1-a29d-4ccd7fa88b74"
      },
      "execution_count": null,
      "outputs": [
        {
          "output_type": "execute_result",
          "data": {
            "text/plain": [
              "                                                text             tweetid  \\\n",
              "0  Ron Fournier: \"Clinton Used Secret Server To P...  791643269109350400   \n",
              "1  \"@SassyPantsjj: Michigan GOP poll 2/24/2016 Tr...  703562075616849920   \n",
              "2  WEST VIRGINIA #VoteTrump TODAY!\\n#MakeAmericaG...  730054891897536514   \n",
              "3  Praying for the families of the two Iowa polic...  793824247168765952   \n",
              "4  Why isn't Hillary Clinton 50 points ahead?\\n#D...  780569413321789440   \n",
              "\n",
              "     userid               rt_id           rt_userid  retweet_count  \\\n",
              "0  25073877  there are retweets  there are retweets        13092.0   \n",
              "1  25073877  there are retweets  there are retweets         1750.0   \n",
              "2  25073877  there are retweets  there are retweets         3562.0   \n",
              "3  25073877  there are retweets  there are retweets        21254.0   \n",
              "4  25073877  there are retweets  there are retweets        13963.0   \n",
              "\n",
              "  day_of_week      month  day  hour  ...  year  timezone  contains_link  \\\n",
              "0    Thursday    October   27    14  ...  2016     +0000           True   \n",
              "1    Saturday   February   27    12  ...  2016     +0000          False   \n",
              "2     Tuesday        May   10    15  ...  2016     +0000           True   \n",
              "3   Wednesday   November    2    14  ...  2016     +0000          False   \n",
              "4     Tuesday  September   27     0  ...  2016     +0000           True   \n",
              "\n",
              "  emojis  tweet_length                                         clean_data  \\\n",
              "0     []            97  ron fournier clinton used secret server protec...   \n",
              "1     []           121  <user> michigan gop poll 2/24 <number> trump 3...   \n",
              "2     []            89  west virginia votetrump today makeamericagreat...   \n",
              "3     []           139  praying families two iowa police ambushed morn...   \n",
              "4     []            79  hillary clinton <number> points ahead debatenight   \n",
              "\n",
              "       W_date tweet_by vader_sentiment sentiment  \n",
              "0  2016-10-27    trump          0.3818  positive  \n",
              "1  2016-02-27    trump          0.5859  positive  \n",
              "2  2016-05-10    trump          0.0000  negative  \n",
              "3  2016-11-02    trump         -0.2023  negative  \n",
              "4  2016-09-27    trump          0.0000  negative  \n",
              "\n",
              "[5 rows x 22 columns]"
            ],
            "text/html": [
              "<div>\n",
              "<style scoped>\n",
              "    .dataframe tbody tr th:only-of-type {\n",
              "        vertical-align: middle;\n",
              "    }\n",
              "\n",
              "    .dataframe tbody tr th {\n",
              "        vertical-align: top;\n",
              "    }\n",
              "\n",
              "    .dataframe thead th {\n",
              "        text-align: right;\n",
              "    }\n",
              "</style>\n",
              "<table border=\"1\" class=\"dataframe\">\n",
              "  <thead>\n",
              "    <tr style=\"text-align: right;\">\n",
              "      <th></th>\n",
              "      <th>text</th>\n",
              "      <th>tweetid</th>\n",
              "      <th>userid</th>\n",
              "      <th>rt_id</th>\n",
              "      <th>rt_userid</th>\n",
              "      <th>retweet_count</th>\n",
              "      <th>day_of_week</th>\n",
              "      <th>month</th>\n",
              "      <th>day</th>\n",
              "      <th>hour</th>\n",
              "      <th>...</th>\n",
              "      <th>year</th>\n",
              "      <th>timezone</th>\n",
              "      <th>contains_link</th>\n",
              "      <th>emojis</th>\n",
              "      <th>tweet_length</th>\n",
              "      <th>clean_data</th>\n",
              "      <th>W_date</th>\n",
              "      <th>tweet_by</th>\n",
              "      <th>vader_sentiment</th>\n",
              "      <th>sentiment</th>\n",
              "    </tr>\n",
              "  </thead>\n",
              "  <tbody>\n",
              "    <tr>\n",
              "      <th>0</th>\n",
              "      <td>Ron Fournier: \"Clinton Used Secret Server To P...</td>\n",
              "      <td>791643269109350400</td>\n",
              "      <td>25073877</td>\n",
              "      <td>there are retweets</td>\n",
              "      <td>there are retweets</td>\n",
              "      <td>13092.0</td>\n",
              "      <td>Thursday</td>\n",
              "      <td>October</td>\n",
              "      <td>27</td>\n",
              "      <td>14</td>\n",
              "      <td>...</td>\n",
              "      <td>2016</td>\n",
              "      <td>+0000</td>\n",
              "      <td>True</td>\n",
              "      <td>[]</td>\n",
              "      <td>97</td>\n",
              "      <td>ron fournier clinton used secret server protec...</td>\n",
              "      <td>2016-10-27</td>\n",
              "      <td>trump</td>\n",
              "      <td>0.3818</td>\n",
              "      <td>positive</td>\n",
              "    </tr>\n",
              "    <tr>\n",
              "      <th>1</th>\n",
              "      <td>\"@SassyPantsjj: Michigan GOP poll 2/24/2016 Tr...</td>\n",
              "      <td>703562075616849920</td>\n",
              "      <td>25073877</td>\n",
              "      <td>there are retweets</td>\n",
              "      <td>there are retweets</td>\n",
              "      <td>1750.0</td>\n",
              "      <td>Saturday</td>\n",
              "      <td>February</td>\n",
              "      <td>27</td>\n",
              "      <td>12</td>\n",
              "      <td>...</td>\n",
              "      <td>2016</td>\n",
              "      <td>+0000</td>\n",
              "      <td>False</td>\n",
              "      <td>[]</td>\n",
              "      <td>121</td>\n",
              "      <td>&lt;user&gt; michigan gop poll 2/24 &lt;number&gt; trump 3...</td>\n",
              "      <td>2016-02-27</td>\n",
              "      <td>trump</td>\n",
              "      <td>0.5859</td>\n",
              "      <td>positive</td>\n",
              "    </tr>\n",
              "    <tr>\n",
              "      <th>2</th>\n",
              "      <td>WEST VIRGINIA #VoteTrump TODAY!\\n#MakeAmericaG...</td>\n",
              "      <td>730054891897536514</td>\n",
              "      <td>25073877</td>\n",
              "      <td>there are retweets</td>\n",
              "      <td>there are retweets</td>\n",
              "      <td>3562.0</td>\n",
              "      <td>Tuesday</td>\n",
              "      <td>May</td>\n",
              "      <td>10</td>\n",
              "      <td>15</td>\n",
              "      <td>...</td>\n",
              "      <td>2016</td>\n",
              "      <td>+0000</td>\n",
              "      <td>True</td>\n",
              "      <td>[]</td>\n",
              "      <td>89</td>\n",
              "      <td>west virginia votetrump today makeamericagreat...</td>\n",
              "      <td>2016-05-10</td>\n",
              "      <td>trump</td>\n",
              "      <td>0.0000</td>\n",
              "      <td>negative</td>\n",
              "    </tr>\n",
              "    <tr>\n",
              "      <th>3</th>\n",
              "      <td>Praying for the families of the two Iowa polic...</td>\n",
              "      <td>793824247168765952</td>\n",
              "      <td>25073877</td>\n",
              "      <td>there are retweets</td>\n",
              "      <td>there are retweets</td>\n",
              "      <td>21254.0</td>\n",
              "      <td>Wednesday</td>\n",
              "      <td>November</td>\n",
              "      <td>2</td>\n",
              "      <td>14</td>\n",
              "      <td>...</td>\n",
              "      <td>2016</td>\n",
              "      <td>+0000</td>\n",
              "      <td>False</td>\n",
              "      <td>[]</td>\n",
              "      <td>139</td>\n",
              "      <td>praying families two iowa police ambushed morn...</td>\n",
              "      <td>2016-11-02</td>\n",
              "      <td>trump</td>\n",
              "      <td>-0.2023</td>\n",
              "      <td>negative</td>\n",
              "    </tr>\n",
              "    <tr>\n",
              "      <th>4</th>\n",
              "      <td>Why isn't Hillary Clinton 50 points ahead?\\n#D...</td>\n",
              "      <td>780569413321789440</td>\n",
              "      <td>25073877</td>\n",
              "      <td>there are retweets</td>\n",
              "      <td>there are retweets</td>\n",
              "      <td>13963.0</td>\n",
              "      <td>Tuesday</td>\n",
              "      <td>September</td>\n",
              "      <td>27</td>\n",
              "      <td>0</td>\n",
              "      <td>...</td>\n",
              "      <td>2016</td>\n",
              "      <td>+0000</td>\n",
              "      <td>True</td>\n",
              "      <td>[]</td>\n",
              "      <td>79</td>\n",
              "      <td>hillary clinton &lt;number&gt; points ahead debatenight</td>\n",
              "      <td>2016-09-27</td>\n",
              "      <td>trump</td>\n",
              "      <td>0.0000</td>\n",
              "      <td>negative</td>\n",
              "    </tr>\n",
              "  </tbody>\n",
              "</table>\n",
              "<p>5 rows × 22 columns</p>\n",
              "</div>"
            ]
          },
          "metadata": {},
          "execution_count": 571
        }
      ]
    },
    {
      "cell_type": "code",
      "source": [
        "len(train_df)"
      ],
      "metadata": {
        "colab": {
          "base_uri": "https://localhost:8080/"
        },
        "id": "1rH5JA4Y7yCp",
        "outputId": "a36e7c3f-b6cf-44ef-8bd9-bf3525664519"
      },
      "execution_count": null,
      "outputs": [
        {
          "output_type": "execute_result",
          "data": {
            "text/plain": [
              "2840"
            ]
          },
          "metadata": {},
          "execution_count": 572
        }
      ]
    },
    {
      "cell_type": "code",
      "source": [
        "# Initialize new columns in the DataFrame\n",
        "train_df['dominant_topic'] = -1\n",
        "train_df['highest_topic_score'] = 0  # To store the highest similarity score\n",
        "\n",
        "num_topics = modeltop2vec.get_num_topics()\n",
        "topic_sizes = modeltop2vec.get_topic_sizes()[0]\n",
        "\n",
        "# Iterate through each topic\n",
        "for t in range(num_topics):\n",
        "    # Get the most relevant documents and their scores for the current topic\n",
        "    documents, document_scores, document_ids = modeltop2vec.search_documents_by_topic(topic_num=t, num_docs=topic_sizes[t])\n",
        "\n",
        "    for doc_index, doc_id in enumerate(document_ids):\n",
        "        # Ensure doc_id is in train_df\n",
        "        if doc_id in train_df.index:\n",
        "            # Check if this topic's score for the document is higher than the previously stored score\n",
        "            if document_scores[doc_index] > train_df.at[doc_id, 'highest_topic_score']:\n",
        "                # Update the dominant topic and highest topic score\n",
        "                train_df.at[doc_id, 'dominant_topic'] = t\n",
        "                train_df.at[doc_id, 'highest_topic_score'] = document_scores[doc_index]\n",
        "\n",
        "# Drop the 'highest_topic_score' column if it's no longer needed\n",
        "#train_df.drop('highest_topic_score', axis=1, inplace=True)\n",
        "\n"
      ],
      "metadata": {
        "id": "cSVlR7XByyca",
        "colab": {
          "base_uri": "https://localhost:8080/"
        },
        "outputId": "a3f18666-4bc3-4485-ce00-3bb2abe25e81"
      },
      "execution_count": null,
      "outputs": [
        {
          "output_type": "stream",
          "name": "stderr",
          "text": [
            "C:\\Users\\bgarikip\\AppData\\Local\\Temp\\ipykernel_14448\\3042121764.py:20: FutureWarning: Setting an item of incompatible dtype is deprecated and will raise in a future error of pandas. Value '0.7762103080749512' has dtype incompatible with int64, please explicitly cast to a compatible dtype first.\n",
            "  train_df.at[doc_id, 'highest_topic_score'] = document_scores[doc_index]\n"
          ]
        }
      ]
    },
    {
      "cell_type": "code",
      "source": [
        "'''# Initialize the column for the count of topic words\n",
        "train_df['count_of_topic_words_matching_clean_data'] = 0\n",
        "\n",
        "# Retrieve topic words for each topic\n",
        "topic_words_list = modeltop2vec.get_topics()[0]\n",
        "\n",
        "# Convert the list of words for each topic into a set for faster lookup\n",
        "topic_words_sets = [set(words) for words in topic_words_list]\n",
        "\n",
        "# Iterate over each row in the DataFrame\n",
        "for index, row in train_df.iterrows():\n",
        "    # Get the dominant topic for the current document\n",
        "    dominant_topic = row['dominant_topic']\n",
        "\n",
        "    # Continue only if a dominant topic is assigned\n",
        "    if dominant_topic != -1:\n",
        "        # Tokenize the 'clean_data' text into words\n",
        "        document_words = set(row['clean_data'].split())\n",
        "\n",
        "        # Count how many words are in common with the topic's words\n",
        "        common_words_count = len(document_words.intersection(topic_words_sets[dominant_topic]))\n",
        "\n",
        "        # Assign the count to the 'count_of_topic_words' column\n",
        "        train_df.at[index, 'count_of_topic_words_matching_clean_data'] = common_words_count\n",
        "\n",
        "# Now 'train_df' contains a new column 'count_of_topic_words' with the count of matching topic words for each document\n",
        "'''"
      ],
      "metadata": {
        "colab": {
          "base_uri": "https://localhost:8080/"
        },
        "id": "P3WD3q8dD7Vc",
        "outputId": "cf1c57c2-4f53-44e7-9410-1799796b5450"
      },
      "execution_count": null,
      "outputs": [
        {
          "output_type": "execute_result",
          "data": {
            "text/plain": [
              "\"# Initialize the column for the count of topic words\\ntrain_df['count_of_topic_words_matching_clean_data'] = 0\\n\\n# Retrieve topic words for each topic\\ntopic_words_list = modeltop2vec.get_topics()[0]\\n\\n# Convert the list of words for each topic into a set for faster lookup\\ntopic_words_sets = [set(words) for words in topic_words_list]\\n\\n# Iterate over each row in the DataFrame\\nfor index, row in train_df.iterrows():\\n    # Get the dominant topic for the current document\\n    dominant_topic = row['dominant_topic']\\n\\n    # Continue only if a dominant topic is assigned\\n    if dominant_topic != -1:\\n        # Tokenize the 'clean_data' text into words\\n        document_words = set(row['clean_data'].split())\\n\\n        # Count how many words are in common with the topic's words\\n        common_words_count = len(document_words.intersection(topic_words_sets[dominant_topic]))\\n\\n        # Assign the count to the 'count_of_topic_words' column\\n        train_df.at[index, 'count_of_topic_words_matching_clean_data'] = common_words_count\\n\\n# Now 'train_df' contains a new column 'count_of_topic_words' with the count of matching topic words for each document\\n\""
            ]
          },
          "metadata": {},
          "execution_count": 574
        }
      ]
    },
    {
      "cell_type": "code",
      "source": [
        "train_df.info()"
      ],
      "metadata": {
        "colab": {
          "base_uri": "https://localhost:8080/"
        },
        "id": "POSLErQ9k7FV",
        "outputId": "bd0f00c6-d115-4deb-db19-1c287ff5bd86"
      },
      "execution_count": null,
      "outputs": [
        {
          "output_type": "stream",
          "name": "stdout",
          "text": [
            "<class 'pandas.core.frame.DataFrame'>\n",
            "RangeIndex: 2840 entries, 0 to 2839\n",
            "Data columns (total 24 columns):\n",
            " #   Column               Non-Null Count  Dtype  \n",
            "---  ------               --------------  -----  \n",
            " 0   text                 2840 non-null   object \n",
            " 1   tweetid              2840 non-null   object \n",
            " 2   userid               2840 non-null   object \n",
            " 3   rt_id                2840 non-null   object \n",
            " 4   rt_userid            2840 non-null   object \n",
            " 5   retweet_count        2840 non-null   float64\n",
            " 6   day_of_week          2840 non-null   object \n",
            " 7   month                2840 non-null   object \n",
            " 8   day                  2840 non-null   int32  \n",
            " 9   hour                 2840 non-null   int32  \n",
            " 10  minute               2840 non-null   int32  \n",
            " 11  second               2840 non-null   int32  \n",
            " 12  year                 2840 non-null   int32  \n",
            " 13  timezone             2840 non-null   object \n",
            " 14  contains_link        2840 non-null   bool   \n",
            " 15  emojis               2840 non-null   object \n",
            " 16  tweet_length         2840 non-null   int64  \n",
            " 17  clean_data           2840 non-null   object \n",
            " 18  W_date               2840 non-null   object \n",
            " 19  tweet_by             2840 non-null   object \n",
            " 20  vader_sentiment      2840 non-null   float64\n",
            " 21  sentiment            2840 non-null   object \n",
            " 22  dominant_topic       2840 non-null   int64  \n",
            " 23  highest_topic_score  2840 non-null   float64\n",
            "dtypes: bool(1), float64(3), int32(5), int64(2), object(13)\n",
            "memory usage: 457.7+ KB\n"
          ]
        }
      ]
    },
    {
      "cell_type": "code",
      "source": [
        "train_df.head(120)"
      ],
      "metadata": {
        "id": "Gn2bVuuhy8nY",
        "colab": {
          "base_uri": "https://localhost:8080/",
          "height": 791
        },
        "outputId": "a4699b09-1591-4345-ee20-03cfdb1810ba"
      },
      "execution_count": null,
      "outputs": [
        {
          "output_type": "execute_result",
          "data": {
            "text/plain": [
              "                                                  text             tweetid  \\\n",
              "0    Ron Fournier: \"Clinton Used Secret Server To P...  791643269109350400   \n",
              "1    \"@SassyPantsjj: Michigan GOP poll 2/24/2016 Tr...  703562075616849920   \n",
              "2    WEST VIRGINIA #VoteTrump TODAY!\\n#MakeAmericaG...  730054891897536514   \n",
              "3    Praying for the families of the two Iowa polic...  793824247168765952   \n",
              "4    Why isn't Hillary Clinton 50 points ahead?\\n#D...  780569413321789440   \n",
              "..                                                 ...                 ...   \n",
              "115  STATEMENT ON MELANIA SPEECH\\nhttps://t.co/uzBO...  755810077307727872   \n",
              "116  \"@SkylerDeckard: @realDonaldTrump \"that's beca...  703194690498088961   \n",
              "117  Thank you Governor @ScottWalker &amp; @GOP Cha...  765950471160954884   \n",
              "118  Lyin’ Ted Cruz steals foreign policy from me, ...  712727046913462272   \n",
              "119  Mika Brzezinski: Dem Criticism of Comey Reinfo...  793565506431168512   \n",
              "\n",
              "       userid               rt_id           rt_userid  retweet_count  \\\n",
              "0    25073877  there are retweets  there are retweets        13092.0   \n",
              "1    25073877  there are retweets  there are retweets         1750.0   \n",
              "2    25073877  there are retweets  there are retweets         3562.0   \n",
              "3    25073877  there are retweets  there are retweets        21254.0   \n",
              "4    25073877  there are retweets  there are retweets        13963.0   \n",
              "..        ...                 ...                 ...            ...   \n",
              "115  25073877  there are retweets  there are retweets         5435.0   \n",
              "116  25073877  there are retweets  there are retweets         1460.0   \n",
              "117  25073877  there are retweets  there are retweets         4531.0   \n",
              "118  25073877  there are retweets  there are retweets         4600.0   \n",
              "119  25073877  there are retweets  there are retweets         8241.0   \n",
              "\n",
              "    day_of_week      month  day  hour  ...  contains_link  emojis  \\\n",
              "0      Thursday    October   27    14  ...           True      []   \n",
              "1      Saturday   February   27    12  ...          False      []   \n",
              "2       Tuesday        May   10    15  ...           True      []   \n",
              "3     Wednesday   November    2    14  ...          False      []   \n",
              "4       Tuesday  September   27     0  ...           True      []   \n",
              "..          ...        ...  ...   ...  ...            ...     ...   \n",
              "115   Wednesday       July   20    17  ...           True      []   \n",
              "116      Friday   February   26    12  ...          False      []   \n",
              "117   Wednesday     August   17    16  ...           True      []   \n",
              "118   Wednesday      March   23    19  ...          False      []   \n",
              "119     Tuesday   November    1    21  ...           True      []   \n",
              "\n",
              "     tweet_length                                         clean_data  \\\n",
              "0              97  ron fournier clinton used secret server protec...   \n",
              "1             121  <user> michigan gop poll 2/24 <number> trump 3...   \n",
              "2              89  west virginia votetrump today makeamericagreat...   \n",
              "3             139  praying families two iowa police ambushed morn...   \n",
              "4              79  hillary clinton <number> points ahead debatenight   \n",
              "..            ...                                                ...   \n",
              "115            51                           statement melania speech   \n",
              "116           131  <user> <user> that's never hired anyone work f...   \n",
              "117           127  thank governor <user> <user> chairman <user> p...   \n",
              "118           112  lyin ted cruz steals foreign policy lines mich...   \n",
              "119           130  mika brzezinski dem criticism comey reinforcin...   \n",
              "\n",
              "         W_date tweet_by  vader_sentiment sentiment dominant_topic  \\\n",
              "0    2016-10-27    trump           0.3818  positive              0   \n",
              "1    2016-02-27    trump           0.5859  positive              0   \n",
              "2    2016-05-10    trump           0.0000  negative              0   \n",
              "3    2016-11-02    trump          -0.2023  negative              0   \n",
              "4    2016-09-27    trump           0.0000  negative              0   \n",
              "..          ...      ...              ...       ...            ...   \n",
              "115  2016-07-20    trump           0.0000  negative              1   \n",
              "116  2016-02-26    trump           0.4588  positive              0   \n",
              "117  2016-08-17    trump           0.3612  positive              0   \n",
              "118  2016-03-23    trump          -0.7906  negative              0   \n",
              "119  2016-11-01    trump          -0.4404  negative              3   \n",
              "\n",
              "    highest_topic_score  \n",
              "0              0.449506  \n",
              "1              0.373303  \n",
              "2              0.689020  \n",
              "3              0.325258  \n",
              "4              0.647986  \n",
              "..                  ...  \n",
              "115            0.196112  \n",
              "116            0.389889  \n",
              "117            0.583896  \n",
              "118            0.478866  \n",
              "119            0.358169  \n",
              "\n",
              "[120 rows x 24 columns]"
            ],
            "text/html": [
              "<div>\n",
              "<style scoped>\n",
              "    .dataframe tbody tr th:only-of-type {\n",
              "        vertical-align: middle;\n",
              "    }\n",
              "\n",
              "    .dataframe tbody tr th {\n",
              "        vertical-align: top;\n",
              "    }\n",
              "\n",
              "    .dataframe thead th {\n",
              "        text-align: right;\n",
              "    }\n",
              "</style>\n",
              "<table border=\"1\" class=\"dataframe\">\n",
              "  <thead>\n",
              "    <tr style=\"text-align: right;\">\n",
              "      <th></th>\n",
              "      <th>text</th>\n",
              "      <th>tweetid</th>\n",
              "      <th>userid</th>\n",
              "      <th>rt_id</th>\n",
              "      <th>rt_userid</th>\n",
              "      <th>retweet_count</th>\n",
              "      <th>day_of_week</th>\n",
              "      <th>month</th>\n",
              "      <th>day</th>\n",
              "      <th>hour</th>\n",
              "      <th>...</th>\n",
              "      <th>contains_link</th>\n",
              "      <th>emojis</th>\n",
              "      <th>tweet_length</th>\n",
              "      <th>clean_data</th>\n",
              "      <th>W_date</th>\n",
              "      <th>tweet_by</th>\n",
              "      <th>vader_sentiment</th>\n",
              "      <th>sentiment</th>\n",
              "      <th>dominant_topic</th>\n",
              "      <th>highest_topic_score</th>\n",
              "    </tr>\n",
              "  </thead>\n",
              "  <tbody>\n",
              "    <tr>\n",
              "      <th>0</th>\n",
              "      <td>Ron Fournier: \"Clinton Used Secret Server To P...</td>\n",
              "      <td>791643269109350400</td>\n",
              "      <td>25073877</td>\n",
              "      <td>there are retweets</td>\n",
              "      <td>there are retweets</td>\n",
              "      <td>13092.0</td>\n",
              "      <td>Thursday</td>\n",
              "      <td>October</td>\n",
              "      <td>27</td>\n",
              "      <td>14</td>\n",
              "      <td>...</td>\n",
              "      <td>True</td>\n",
              "      <td>[]</td>\n",
              "      <td>97</td>\n",
              "      <td>ron fournier clinton used secret server protec...</td>\n",
              "      <td>2016-10-27</td>\n",
              "      <td>trump</td>\n",
              "      <td>0.3818</td>\n",
              "      <td>positive</td>\n",
              "      <td>0</td>\n",
              "      <td>0.449506</td>\n",
              "    </tr>\n",
              "    <tr>\n",
              "      <th>1</th>\n",
              "      <td>\"@SassyPantsjj: Michigan GOP poll 2/24/2016 Tr...</td>\n",
              "      <td>703562075616849920</td>\n",
              "      <td>25073877</td>\n",
              "      <td>there are retweets</td>\n",
              "      <td>there are retweets</td>\n",
              "      <td>1750.0</td>\n",
              "      <td>Saturday</td>\n",
              "      <td>February</td>\n",
              "      <td>27</td>\n",
              "      <td>12</td>\n",
              "      <td>...</td>\n",
              "      <td>False</td>\n",
              "      <td>[]</td>\n",
              "      <td>121</td>\n",
              "      <td>&lt;user&gt; michigan gop poll 2/24 &lt;number&gt; trump 3...</td>\n",
              "      <td>2016-02-27</td>\n",
              "      <td>trump</td>\n",
              "      <td>0.5859</td>\n",
              "      <td>positive</td>\n",
              "      <td>0</td>\n",
              "      <td>0.373303</td>\n",
              "    </tr>\n",
              "    <tr>\n",
              "      <th>2</th>\n",
              "      <td>WEST VIRGINIA #VoteTrump TODAY!\\n#MakeAmericaG...</td>\n",
              "      <td>730054891897536514</td>\n",
              "      <td>25073877</td>\n",
              "      <td>there are retweets</td>\n",
              "      <td>there are retweets</td>\n",
              "      <td>3562.0</td>\n",
              "      <td>Tuesday</td>\n",
              "      <td>May</td>\n",
              "      <td>10</td>\n",
              "      <td>15</td>\n",
              "      <td>...</td>\n",
              "      <td>True</td>\n",
              "      <td>[]</td>\n",
              "      <td>89</td>\n",
              "      <td>west virginia votetrump today makeamericagreat...</td>\n",
              "      <td>2016-05-10</td>\n",
              "      <td>trump</td>\n",
              "      <td>0.0000</td>\n",
              "      <td>negative</td>\n",
              "      <td>0</td>\n",
              "      <td>0.689020</td>\n",
              "    </tr>\n",
              "    <tr>\n",
              "      <th>3</th>\n",
              "      <td>Praying for the families of the two Iowa polic...</td>\n",
              "      <td>793824247168765952</td>\n",
              "      <td>25073877</td>\n",
              "      <td>there are retweets</td>\n",
              "      <td>there are retweets</td>\n",
              "      <td>21254.0</td>\n",
              "      <td>Wednesday</td>\n",
              "      <td>November</td>\n",
              "      <td>2</td>\n",
              "      <td>14</td>\n",
              "      <td>...</td>\n",
              "      <td>False</td>\n",
              "      <td>[]</td>\n",
              "      <td>139</td>\n",
              "      <td>praying families two iowa police ambushed morn...</td>\n",
              "      <td>2016-11-02</td>\n",
              "      <td>trump</td>\n",
              "      <td>-0.2023</td>\n",
              "      <td>negative</td>\n",
              "      <td>0</td>\n",
              "      <td>0.325258</td>\n",
              "    </tr>\n",
              "    <tr>\n",
              "      <th>4</th>\n",
              "      <td>Why isn't Hillary Clinton 50 points ahead?\\n#D...</td>\n",
              "      <td>780569413321789440</td>\n",
              "      <td>25073877</td>\n",
              "      <td>there are retweets</td>\n",
              "      <td>there are retweets</td>\n",
              "      <td>13963.0</td>\n",
              "      <td>Tuesday</td>\n",
              "      <td>September</td>\n",
              "      <td>27</td>\n",
              "      <td>0</td>\n",
              "      <td>...</td>\n",
              "      <td>True</td>\n",
              "      <td>[]</td>\n",
              "      <td>79</td>\n",
              "      <td>hillary clinton &lt;number&gt; points ahead debatenight</td>\n",
              "      <td>2016-09-27</td>\n",
              "      <td>trump</td>\n",
              "      <td>0.0000</td>\n",
              "      <td>negative</td>\n",
              "      <td>0</td>\n",
              "      <td>0.647986</td>\n",
              "    </tr>\n",
              "    <tr>\n",
              "      <th>...</th>\n",
              "      <td>...</td>\n",
              "      <td>...</td>\n",
              "      <td>...</td>\n",
              "      <td>...</td>\n",
              "      <td>...</td>\n",
              "      <td>...</td>\n",
              "      <td>...</td>\n",
              "      <td>...</td>\n",
              "      <td>...</td>\n",
              "      <td>...</td>\n",
              "      <td>...</td>\n",
              "      <td>...</td>\n",
              "      <td>...</td>\n",
              "      <td>...</td>\n",
              "      <td>...</td>\n",
              "      <td>...</td>\n",
              "      <td>...</td>\n",
              "      <td>...</td>\n",
              "      <td>...</td>\n",
              "      <td>...</td>\n",
              "      <td>...</td>\n",
              "    </tr>\n",
              "    <tr>\n",
              "      <th>115</th>\n",
              "      <td>STATEMENT ON MELANIA SPEECH\\nhttps://t.co/uzBO...</td>\n",
              "      <td>755810077307727872</td>\n",
              "      <td>25073877</td>\n",
              "      <td>there are retweets</td>\n",
              "      <td>there are retweets</td>\n",
              "      <td>5435.0</td>\n",
              "      <td>Wednesday</td>\n",
              "      <td>July</td>\n",
              "      <td>20</td>\n",
              "      <td>17</td>\n",
              "      <td>...</td>\n",
              "      <td>True</td>\n",
              "      <td>[]</td>\n",
              "      <td>51</td>\n",
              "      <td>statement melania speech</td>\n",
              "      <td>2016-07-20</td>\n",
              "      <td>trump</td>\n",
              "      <td>0.0000</td>\n",
              "      <td>negative</td>\n",
              "      <td>1</td>\n",
              "      <td>0.196112</td>\n",
              "    </tr>\n",
              "    <tr>\n",
              "      <th>116</th>\n",
              "      <td>\"@SkylerDeckard: @realDonaldTrump \"that's beca...</td>\n",
              "      <td>703194690498088961</td>\n",
              "      <td>25073877</td>\n",
              "      <td>there are retweets</td>\n",
              "      <td>there are retweets</td>\n",
              "      <td>1460.0</td>\n",
              "      <td>Friday</td>\n",
              "      <td>February</td>\n",
              "      <td>26</td>\n",
              "      <td>12</td>\n",
              "      <td>...</td>\n",
              "      <td>False</td>\n",
              "      <td>[]</td>\n",
              "      <td>131</td>\n",
              "      <td>&lt;user&gt; &lt;user&gt; that's never hired anyone work f...</td>\n",
              "      <td>2016-02-26</td>\n",
              "      <td>trump</td>\n",
              "      <td>0.4588</td>\n",
              "      <td>positive</td>\n",
              "      <td>0</td>\n",
              "      <td>0.389889</td>\n",
              "    </tr>\n",
              "    <tr>\n",
              "      <th>117</th>\n",
              "      <td>Thank you Governor @ScottWalker &amp;amp; @GOP Cha...</td>\n",
              "      <td>765950471160954884</td>\n",
              "      <td>25073877</td>\n",
              "      <td>there are retweets</td>\n",
              "      <td>there are retweets</td>\n",
              "      <td>4531.0</td>\n",
              "      <td>Wednesday</td>\n",
              "      <td>August</td>\n",
              "      <td>17</td>\n",
              "      <td>16</td>\n",
              "      <td>...</td>\n",
              "      <td>True</td>\n",
              "      <td>[]</td>\n",
              "      <td>127</td>\n",
              "      <td>thank governor &lt;user&gt; &lt;user&gt; chairman &lt;user&gt; p...</td>\n",
              "      <td>2016-08-17</td>\n",
              "      <td>trump</td>\n",
              "      <td>0.3612</td>\n",
              "      <td>positive</td>\n",
              "      <td>0</td>\n",
              "      <td>0.583896</td>\n",
              "    </tr>\n",
              "    <tr>\n",
              "      <th>118</th>\n",
              "      <td>Lyin’ Ted Cruz steals foreign policy from me, ...</td>\n",
              "      <td>712727046913462272</td>\n",
              "      <td>25073877</td>\n",
              "      <td>there are retweets</td>\n",
              "      <td>there are retweets</td>\n",
              "      <td>4600.0</td>\n",
              "      <td>Wednesday</td>\n",
              "      <td>March</td>\n",
              "      <td>23</td>\n",
              "      <td>19</td>\n",
              "      <td>...</td>\n",
              "      <td>False</td>\n",
              "      <td>[]</td>\n",
              "      <td>112</td>\n",
              "      <td>lyin ted cruz steals foreign policy lines mich...</td>\n",
              "      <td>2016-03-23</td>\n",
              "      <td>trump</td>\n",
              "      <td>-0.7906</td>\n",
              "      <td>negative</td>\n",
              "      <td>0</td>\n",
              "      <td>0.478866</td>\n",
              "    </tr>\n",
              "    <tr>\n",
              "      <th>119</th>\n",
              "      <td>Mika Brzezinski: Dem Criticism of Comey Reinfo...</td>\n",
              "      <td>793565506431168512</td>\n",
              "      <td>25073877</td>\n",
              "      <td>there are retweets</td>\n",
              "      <td>there are retweets</td>\n",
              "      <td>8241.0</td>\n",
              "      <td>Tuesday</td>\n",
              "      <td>November</td>\n",
              "      <td>1</td>\n",
              "      <td>21</td>\n",
              "      <td>...</td>\n",
              "      <td>True</td>\n",
              "      <td>[]</td>\n",
              "      <td>130</td>\n",
              "      <td>mika brzezinski dem criticism comey reinforcin...</td>\n",
              "      <td>2016-11-01</td>\n",
              "      <td>trump</td>\n",
              "      <td>-0.4404</td>\n",
              "      <td>negative</td>\n",
              "      <td>3</td>\n",
              "      <td>0.358169</td>\n",
              "    </tr>\n",
              "  </tbody>\n",
              "</table>\n",
              "<p>120 rows × 24 columns</p>\n",
              "</div>"
            ]
          },
          "metadata": {},
          "execution_count": 576
        }
      ]
    },
    {
      "cell_type": "code",
      "source": [
        "# Resetting the index of the DataFrame\n",
        "train_df.reset_index(drop=True, inplace=True)\n",
        "\n",
        "# Saving the DataFrame to a Feather file\n",
        "train_df.to_csv('df_topicall_trump.csv')\n"
      ],
      "metadata": {
        "id": "Whi6Agcg1S-0"
      },
      "execution_count": null,
      "outputs": []
    },
    {
      "cell_type": "code",
      "source": [
        "pip install seaborn"
      ],
      "metadata": {
        "id": "OkOXR5Av0_AC",
        "colab": {
          "base_uri": "https://localhost:8080/"
        },
        "outputId": "689c60a6-949c-467f-a173-8ca21ac7f07e"
      },
      "execution_count": null,
      "outputs": [
        {
          "output_type": "stream",
          "name": "stdout",
          "text": [
            "Requirement already satisfied: seaborn in c:\\users\\bgarikip\\myenv\\lib\\site-packages (0.13.0)\n",
            "Requirement already satisfied: numpy!=1.24.0,>=1.20 in c:\\users\\bgarikip\\myenv\\lib\\site-packages (from seaborn) (1.26.2)\n",
            "Requirement already satisfied: pandas>=1.2 in c:\\users\\bgarikip\\myenv\\lib\\site-packages (from seaborn) (2.1.4)\n",
            "Requirement already satisfied: matplotlib!=3.6.1,>=3.3 in c:\\users\\bgarikip\\myenv\\lib\\site-packages (from seaborn) (3.8.2)\n",
            "Requirement already satisfied: contourpy>=1.0.1 in c:\\users\\bgarikip\\myenv\\lib\\site-packages (from matplotlib!=3.6.1,>=3.3->seaborn) (1.2.0)\n",
            "Requirement already satisfied: cycler>=0.10 in c:\\users\\bgarikip\\myenv\\lib\\site-packages (from matplotlib!=3.6.1,>=3.3->seaborn) (0.12.1)\n",
            "Requirement already satisfied: fonttools>=4.22.0 in c:\\users\\bgarikip\\myenv\\lib\\site-packages (from matplotlib!=3.6.1,>=3.3->seaborn) (4.46.0)\n",
            "Requirement already satisfied: kiwisolver>=1.3.1 in c:\\users\\bgarikip\\myenv\\lib\\site-packages (from matplotlib!=3.6.1,>=3.3->seaborn) (1.4.5)\n",
            "Requirement already satisfied: packaging>=20.0 in c:\\users\\bgarikip\\myenv\\lib\\site-packages (from matplotlib!=3.6.1,>=3.3->seaborn) (23.2)\n",
            "Requirement already satisfied: pillow>=8 in c:\\users\\bgarikip\\myenv\\lib\\site-packages (from matplotlib!=3.6.1,>=3.3->seaborn) (10.1.0)\n",
            "Requirement already satisfied: pyparsing>=2.3.1 in c:\\users\\bgarikip\\myenv\\lib\\site-packages (from matplotlib!=3.6.1,>=3.3->seaborn) (3.1.1)\n",
            "Requirement already satisfied: python-dateutil>=2.7 in c:\\users\\bgarikip\\myenv\\lib\\site-packages (from matplotlib!=3.6.1,>=3.3->seaborn) (2.8.2)\n",
            "Requirement already satisfied: pytz>=2020.1 in c:\\users\\bgarikip\\myenv\\lib\\site-packages (from pandas>=1.2->seaborn) (2023.3.post1)\n",
            "Requirement already satisfied: tzdata>=2022.1 in c:\\users\\bgarikip\\myenv\\lib\\site-packages (from pandas>=1.2->seaborn) (2023.3)\n",
            "Requirement already satisfied: six>=1.5 in c:\\users\\bgarikip\\myenv\\lib\\site-packages (from python-dateutil>=2.7->matplotlib!=3.6.1,>=3.3->seaborn) (1.16.0)\n",
            "Note: you may need to restart the kernel to use updated packages.\n"
          ]
        }
      ]
    },
    {
      "cell_type": "code",
      "source": [
        "import pandas as pd\n",
        "\n",
        "# Retrieve topics and their words\n",
        "topics_words,word_scores,topic_nums = modeltop2vec.get_topics()\n",
        "\n",
        "# Initialize an empty list to store the topic-word pairs\n",
        "topic_word_pairs = []\n",
        "\n",
        "# Iterate over each topic to get the words and create pairs\n",
        "for idx, topic_num in enumerate(topic_nums):\n",
        "    words = topics_words[idx]\n",
        "    topic_word_pairs.append({'Topic': topic_num, 'Word': words})\n",
        "\n",
        "# Convert the list of dictionaries to a DataFrame\n",
        "df_topic_word_pairs = pd.DataFrame(topic_word_pairs)\n",
        "\n",
        "# topic_words_df now contains two columns: 'Topic' and 'Word'\n"
      ],
      "metadata": {
        "id": "9OOPgArqzPBz"
      },
      "execution_count": null,
      "outputs": []
    },
    {
      "cell_type": "code",
      "source": [
        "# Resetting the index of the DataFrame\n",
        "df_topic_word_pairs.reset_index(drop=True, inplace=True)\n",
        "\n",
        "# Saving the DataFrame to a Feather file\n",
        "df_topic_word_pairs.to_feather('df_topic_list.csv')\n"
      ],
      "metadata": {
        "id": "jxVIjYDT1uDZ"
      },
      "execution_count": null,
      "outputs": []
    },
    {
      "cell_type": "code",
      "source": [
        "import matplotlib.pyplot as plt\n",
        "import seaborn as sns\n",
        "\n",
        "# Analyzing the relationship between 'dominant_topic' and 'retweet_count'\n",
        "topic_retweet_analysis = train_df.groupby('dominant_topic')['retweet_count'].mean().sort_values(ascending=False)\n",
        "\n",
        "# Plotting the analysis\n",
        "plt.figure(figsize=(10, 6))\n",
        "sns.barplot(x=topic_retweet_analysis.index, y=topic_retweet_analysis.values)\n",
        "plt.title('Average Retweet Count by Dominant Topic')\n",
        "plt.xlabel('Dominant Topic')\n",
        "plt.ylabel('Average Retweet Count')\n",
        "plt.show()\n"
      ],
      "metadata": {
        "colab": {
          "base_uri": "https://localhost:8080/",
          "height": 564
        },
        "id": "RFLV5VcWuUeq",
        "outputId": "2a393a65-437a-4cfd-80e7-c09fdcce81f8"
      },
      "execution_count": null,
      "outputs": [
        {
          "output_type": "display_data",
          "data": {
            "text/plain": [
              "<Figure size 1000x600 with 1 Axes>"
            ],
            "image/png": "[encoded data removed]"
          },
          "metadata": {}
        }
      ]
    },
    {
      "cell_type": "code",
      "source": [
        "train_df.info()"
      ],
      "metadata": {
        "colab": {
          "base_uri": "https://localhost:8080/"
        },
        "id": "LuEgWSlBLFtf",
        "outputId": "9b7a7981-d501-4615-b61e-0c7382b7262d"
      },
      "execution_count": null,
      "outputs": [
        {
          "output_type": "stream",
          "name": "stdout",
          "text": [
            "<class 'pandas.core.frame.DataFrame'>\n",
            "RangeIndex: 2840 entries, 0 to 2839\n",
            "Data columns (total 24 columns):\n",
            " #   Column               Non-Null Count  Dtype  \n",
            "---  ------               --------------  -----  \n",
            " 0   text                 2840 non-null   object \n",
            " 1   tweetid              2840 non-null   object \n",
            " 2   userid               2840 non-null   object \n",
            " 3   rt_id                2840 non-null   object \n",
            " 4   rt_userid            2840 non-null   object \n",
            " 5   retweet_count        2840 non-null   float64\n",
            " 6   day_of_week          2840 non-null   object \n",
            " 7   month                2840 non-null   object \n",
            " 8   day                  2840 non-null   int32  \n",
            " 9   hour                 2840 non-null   int32  \n",
            " 10  minute               2840 non-null   int32  \n",
            " 11  second               2840 non-null   int32  \n",
            " 12  year                 2840 non-null   int32  \n",
            " 13  timezone             2840 non-null   object \n",
            " 14  contains_link        2840 non-null   bool   \n",
            " 15  emojis               2840 non-null   object \n",
            " 16  tweet_length         2840 non-null   int64  \n",
            " 17  clean_data           2840 non-null   object \n",
            " 18  W_date               2840 non-null   object \n",
            " 19  tweet_by             2840 non-null   object \n",
            " 20  vader_sentiment      2840 non-null   float64\n",
            " 21  sentiment            2840 non-null   object \n",
            " 22  dominant_topic       2840 non-null   int64  \n",
            " 23  highest_topic_score  2840 non-null   float64\n",
            "dtypes: bool(1), float64(3), int32(5), int64(2), object(13)\n",
            "memory usage: 457.7+ KB\n"
          ]
        }
      ]
    },
    {
      "cell_type": "markdown",
      "source": [
        "# to predict best topic with highest reach given a data"
      ],
      "metadata": {
        "id": "tMRFFOODkI07"
      }
    },
    {
      "cell_type": "markdown",
      "source": [
        "regression -model"
      ],
      "metadata": {
        "id": "B5Kb9wSKFj6J"
      }
    },
    {
      "cell_type": "code",
      "source": [
        "# Import necessary libraries\n",
        "import pandas as pd\n",
        "import numpy as np\n",
        "from sklearn.model_selection import train_test_split\n",
        "from sklearn.ensemble import RandomForestRegressor\n",
        "from sklearn.metrics import mean_squared_error, r2_score\n",
        "from sklearn.preprocessing import OneHotEncoder, StandardScaler\n",
        "\n",
        "# Assuming you have a DataFrame named 'train_df'\n",
        "# Features and target for the regression model\n",
        "features_reg = train_df[['day_of_week', 'month', 'day', 'hour', 'minute', 'second', 'year', 'tweet_length', 'sentiment']]\n",
        "target_reg = train_df['retweet_count']\n",
        "\n",
        "# Encoding categorical variables and standardizing numerical variables\n",
        "encoder = OneHotEncoder()\n",
        "scaler = StandardScaler()\n",
        "encoded_features_reg = encoder.fit_transform(features_reg[['day_of_week', 'month', 'sentiment']]).toarray()\n",
        "numerical_features_reg = scaler.fit_transform(features_reg[['day', 'hour', 'minute', 'second', 'year', 'tweet_length']])\n",
        "X_reg = np.hstack([encoded_features_reg, numerical_features_reg])\n",
        "\n",
        "# Splitting the dataset\n",
        "X_train_reg, X_test_reg, y_train_reg, y_test_reg = train_test_split(X_reg, target_reg, test_size=0.2, random_state=42)\n",
        "\n",
        "# Training the Random Forest regression model\n",
        "random_forest_model = RandomForestRegressor(n_estimators=100, random_state=42)\n",
        "random_forest_model.fit(X_train_reg, y_train_reg)\n",
        "\n",
        "# Predicting and evaluating the regression model\n",
        "y_pred_reg = random_forest_model.predict(X_test_reg)\n",
        "mse_reg = mean_squared_error(y_test_reg, y_pred_reg)\n",
        "r2_reg = r2_score(y_test_reg, y_pred_reg)\n",
        "\n",
        "print('MSE:', mse_reg)\n",
        "print('R2 Score:', r2_reg)\n"
      ],
      "metadata": {
        "colab": {
          "base_uri": "https://localhost:8080/"
        },
        "id": "jB88C2CKujai",
        "outputId": "1559e8cb-e15c-4431-fece-e60ebbb559f9"
      },
      "execution_count": null,
      "outputs": [
        {
          "output_type": "stream",
          "name": "stdout",
          "text": [
            "MSE: 57059774.965042785\n",
            "R2 Score: 0.18675044359009918\n"
          ]
        }
      ]
    },
    {
      "cell_type": "markdown",
      "source": [
        "for the regression we got this r2 beacuse we dont have the features that explains alot of the target varble which retweet count. we would have get a better resulst if we have features like number of likes , unlikes, followers  and commnets."
      ],
      "metadata": {
        "id": "Cxc5yqxOF0on"
      }
    },
    {
      "cell_type": "markdown",
      "source": [
        "classifier -model -1"
      ],
      "metadata": {
        "id": "LVTvBGiQFm3C"
      }
    },
    {
      "cell_type": "code",
      "source": [
        "from sklearn.ensemble import RandomForestClassifier\n",
        "\n",
        "# Features and target for the classification model\n",
        "features_class = train_df[['day_of_week', 'month', 'day', 'hour', 'minute', 'second', 'year', 'tweet_length', 'sentiment','retweet_count']]\n",
        "target_class = train_df['dominant_topic']\n",
        "\n",
        "# Encoding and standardizing features for the classification model\n",
        "encoded_features_class = encoder.transform(features_class[['day_of_week', 'month', 'sentiment']]).toarray()\n",
        "numerical_features_class = scaler.transform(features_class[['day', 'hour', 'minute', 'second', 'year', 'tweet_length']])\n",
        "X_class = np.hstack([encoded_features_class, numerical_features_class])\n",
        "\n",
        "# Splitting the dataset for classification\n",
        "X_train_class, X_test_class, y_train_class, y_test_class = train_test_split(X_class, target_class, test_size=0.2, random_state=42)\n",
        "\n",
        "# Training the classification model\n",
        "classifier_model = RandomForestClassifier(n_estimators=100, random_state=42)\n",
        "classifier_model.fit(X_train_class, y_train_class)\n",
        "\n",
        "# Predicting and evaluating the classification model\n",
        "y_pred_class = classifier_model.predict(X_test_class)\n",
        "accuracy_class = (y_pred_class == y_test_class).mean()\n",
        "\n",
        "print('Accuracy:', accuracy_class)\n"
      ],
      "metadata": {
        "colab": {
          "base_uri": "https://localhost:8080/"
        },
        "id": "TogkBIuVuy33",
        "outputId": "7afee781-3a8a-4167-dbf7-06961706d156"
      },
      "execution_count": null,
      "outputs": [
        {
          "output_type": "stream",
          "name": "stdout",
          "text": [
            "Accuracy: 0.926056338028169\n"
          ]
        }
      ]
    },
    {
      "cell_type": "code",
      "source": [
        "from sklearn.metrics import f1_score\n",
        "\n",
        "# Calculate the F1 score\n",
        "f1 = f1_score(y_test_class, y_pred_class, average='weighted')  # 'weighted' takes into account label imbalance\n",
        "\n",
        "print('F1 Score:', f1)\n"
      ],
      "metadata": {
        "colab": {
          "base_uri": "https://localhost:8080/"
        },
        "id": "aMmGOD4A_e8Q",
        "outputId": "9bfcaa46-adb2-4b60-a1e6-bc4019ba4099"
      },
      "execution_count": null,
      "outputs": [
        {
          "output_type": "stream",
          "name": "stdout",
          "text": [
            "F1 Score: 0.8960237060580285\n"
          ]
        }
      ]
    },
    {
      "cell_type": "markdown",
      "source": [
        "# test"
      ],
      "metadata": {
        "id": "B7jtNtDXzvzE"
      }
    },
    {
      "cell_type": "code",
      "source": [
        "test_dff =test_df.copy()"
      ],
      "metadata": {
        "id": "3HKQbkB-zxyD"
      },
      "execution_count": null,
      "outputs": []
    },
    {
      "cell_type": "code",
      "source": [
        "test_dff.info()"
      ],
      "metadata": {
        "colab": {
          "base_uri": "https://localhost:8080/"
        },
        "id": "JroE5eBI5msD",
        "outputId": "da47caf4-71e6-4576-e7f8-56766f2cd055"
      },
      "execution_count": null,
      "outputs": [
        {
          "output_type": "stream",
          "name": "stdout",
          "text": [
            "<class 'pandas.core.frame.DataFrame'>\n",
            "RangeIndex: 2840 entries, 0 to 2839\n",
            "Data columns (total 22 columns):\n",
            " #   Column           Non-Null Count  Dtype  \n",
            "---  ------           --------------  -----  \n",
            " 0   text             2840 non-null   object \n",
            " 1   tweetid          2840 non-null   object \n",
            " 2   userid           2840 non-null   object \n",
            " 3   rt_id            2840 non-null   object \n",
            " 4   rt_userid        2840 non-null   object \n",
            " 5   retweet_count    2840 non-null   float64\n",
            " 6   day_of_week      2840 non-null   object \n",
            " 7   month            2840 non-null   object \n",
            " 8   day              2840 non-null   int32  \n",
            " 9   hour             2840 non-null   int32  \n",
            " 10  minute           2840 non-null   int32  \n",
            " 11  second           2840 non-null   int32  \n",
            " 12  year             2840 non-null   int32  \n",
            " 13  timezone         2840 non-null   object \n",
            " 14  contains_link    2840 non-null   bool   \n",
            " 15  emojis           2840 non-null   object \n",
            " 16  tweet_length     2840 non-null   int64  \n",
            " 17  clean_data       2840 non-null   object \n",
            " 18  W_date           2840 non-null   object \n",
            " 19  tweet_by         2840 non-null   object \n",
            " 20  vader_sentiment  2840 non-null   float64\n",
            " 21  sentiment        2840 non-null   object \n",
            "dtypes: bool(1), float64(2), int32(5), int64(1), object(13)\n",
            "memory usage: 413.4+ KB\n"
          ]
        }
      ]
    },
    {
      "cell_type": "code",
      "source": [
        "test_df.rename(columns={'retweet_count': 'actual_retweet_count'}, inplace=True)"
      ],
      "metadata": {
        "id": "aSsktO5pyZnq"
      },
      "execution_count": null,
      "outputs": []
    },
    {
      "cell_type": "code",
      "source": [
        "test_df.info()"
      ],
      "metadata": {
        "colab": {
          "base_uri": "https://localhost:8080/"
        },
        "id": "IaklbUzJwpYp",
        "outputId": "e4c6f898-8ba3-4374-f614-f31d55b96362"
      },
      "execution_count": null,
      "outputs": [
        {
          "output_type": "stream",
          "name": "stdout",
          "text": [
            "<class 'pandas.core.frame.DataFrame'>\n",
            "RangeIndex: 2840 entries, 0 to 2839\n",
            "Data columns (total 22 columns):\n",
            " #   Column                Non-Null Count  Dtype  \n",
            "---  ------                --------------  -----  \n",
            " 0   text                  2840 non-null   object \n",
            " 1   tweetid               2840 non-null   object \n",
            " 2   userid                2840 non-null   object \n",
            " 3   rt_id                 2840 non-null   object \n",
            " 4   rt_userid             2840 non-null   object \n",
            " 5   actual_retweet_count  2840 non-null   float64\n",
            " 6   day_of_week           2840 non-null   object \n",
            " 7   month                 2840 non-null   object \n",
            " 8   day                   2840 non-null   int32  \n",
            " 9   hour                  2840 non-null   int32  \n",
            " 10  minute                2840 non-null   int32  \n",
            " 11  second                2840 non-null   int32  \n",
            " 12  year                  2840 non-null   int32  \n",
            " 13  timezone              2840 non-null   object \n",
            " 14  contains_link         2840 non-null   bool   \n",
            " 15  emojis                2840 non-null   object \n",
            " 16  tweet_length          2840 non-null   int64  \n",
            " 17  clean_data            2840 non-null   object \n",
            " 18  W_date                2840 non-null   object \n",
            " 19  tweet_by              2840 non-null   object \n",
            " 20  vader_sentiment       2840 non-null   float64\n",
            " 21  sentiment             2840 non-null   object \n",
            "dtypes: bool(1), float64(2), int32(5), int64(1), object(13)\n",
            "memory usage: 413.4+ KB\n"
          ]
        }
      ]
    },
    {
      "cell_type": "code",
      "source": [
        "features_test = test_df[['day_of_week', 'month', 'day', 'hour', 'minute', 'second', 'year', 'tweet_length', 'sentiment']]\n",
        "\n",
        "# Encoding and standardizing the test data\n",
        "# Note: Use the same encoder and scaler fitted on the training data\n",
        "encoded_features_test = encoder.transform(features_test[['day_of_week', 'month', 'sentiment']]).toarray()\n",
        "numerical_features_test = scaler.transform(features_test[['day', 'hour', 'minute', 'second', 'year', 'tweet_length']])\n",
        "X_test = np.hstack([encoded_features_test, numerical_features_test])\n",
        "\n",
        " #Making predictions on the test data\n",
        "predicted_retweet_count = random_forest_model.predict(X_test)"
      ],
      "metadata": {
        "id": "M8aW_mHdxHxa"
      },
      "execution_count": null,
      "outputs": []
    },
    {
      "cell_type": "code",
      "source": [
        "# Attach the predictions to the test dataset\n",
        "test_df['retweet_count'] = predicted_retweet_count\n",
        "\n",
        "# Now test_df contains an additional column with the predicted retweet counts\n",
        "test_df.head()  # Display the first few rows of the modified test dataset\n"
      ],
      "metadata": {
        "colab": {
          "base_uri": "https://localhost:8080/",
          "height": 429
        },
        "id": "lXKetrQexS9v",
        "outputId": "a0314975-a68b-47e0-a0a5-c672a6c2a3bf"
      },
      "execution_count": null,
      "outputs": [
        {
          "output_type": "execute_result",
          "data": {
            "text/plain": [
              "                                                text             tweetid  \\\n",
              "0  Ron Fournier: \"Clinton Used Secret Server To P...  791643269109350400   \n",
              "1  \"@SassyPantsjj: Michigan GOP poll 2/24/2016 Tr...  703562075616849920   \n",
              "2  WEST VIRGINIA #VoteTrump TODAY!\\n#MakeAmericaG...  730054891897536514   \n",
              "3  Praying for the families of the two Iowa polic...  793824247168765952   \n",
              "4  Why isn't Hillary Clinton 50 points ahead?\\n#D...  780569413321789440   \n",
              "\n",
              "     userid               rt_id           rt_userid  actual_retweet_count  \\\n",
              "0  25073877  there are retweets  there are retweets               13092.0   \n",
              "1  25073877  there are retweets  there are retweets                1750.0   \n",
              "2  25073877  there are retweets  there are retweets                3562.0   \n",
              "3  25073877  there are retweets  there are retweets               21254.0   \n",
              "4  25073877  there are retweets  there are retweets               13963.0   \n",
              "\n",
              "  day_of_week      month  day  hour  ...  timezone  contains_link  emojis  \\\n",
              "0    Thursday    October   27    14  ...     +0000           True      []   \n",
              "1    Saturday   February   27    12  ...     +0000          False      []   \n",
              "2     Tuesday        May   10    15  ...     +0000           True      []   \n",
              "3   Wednesday   November    2    14  ...     +0000          False      []   \n",
              "4     Tuesday  September   27     0  ...     +0000           True      []   \n",
              "\n",
              "  tweet_length                                         clean_data      W_date  \\\n",
              "0           97  ron fournier clinton used secret server protec...  2016-10-27   \n",
              "1          121  <user> michigan gop poll 2/24 <number> trump 3...  2016-02-27   \n",
              "2           89  west virginia votetrump today makeamericagreat...  2016-05-10   \n",
              "3          139  praying families two iowa police ambushed morn...  2016-11-02   \n",
              "4           79  hillary clinton <number> points ahead debatenight  2016-09-27   \n",
              "\n",
              "   tweet_by vader_sentiment sentiment retweet_count  \n",
              "0     trump          0.3818  positive      12968.00  \n",
              "1     trump          0.5859  positive       2141.06  \n",
              "2     trump          0.0000  negative       3456.00  \n",
              "3     trump         -0.2023  negative      17905.12  \n",
              "4     trump          0.0000  negative      12830.76  \n",
              "\n",
              "[5 rows x 23 columns]"
            ],
            "text/html": [
              "<div>\n",
              "<style scoped>\n",
              "    .dataframe tbody tr th:only-of-type {\n",
              "        vertical-align: middle;\n",
              "    }\n",
              "\n",
              "    .dataframe tbody tr th {\n",
              "        vertical-align: top;\n",
              "    }\n",
              "\n",
              "    .dataframe thead th {\n",
              "        text-align: right;\n",
              "    }\n",
              "</style>\n",
              "<table border=\"1\" class=\"dataframe\">\n",
              "  <thead>\n",
              "    <tr style=\"text-align: right;\">\n",
              "      <th></th>\n",
              "      <th>text</th>\n",
              "      <th>tweetid</th>\n",
              "      <th>userid</th>\n",
              "      <th>rt_id</th>\n",
              "      <th>rt_userid</th>\n",
              "      <th>actual_retweet_count</th>\n",
              "      <th>day_of_week</th>\n",
              "      <th>month</th>\n",
              "      <th>day</th>\n",
              "      <th>hour</th>\n",
              "      <th>...</th>\n",
              "      <th>timezone</th>\n",
              "      <th>contains_link</th>\n",
              "      <th>emojis</th>\n",
              "      <th>tweet_length</th>\n",
              "      <th>clean_data</th>\n",
              "      <th>W_date</th>\n",
              "      <th>tweet_by</th>\n",
              "      <th>vader_sentiment</th>\n",
              "      <th>sentiment</th>\n",
              "      <th>retweet_count</th>\n",
              "    </tr>\n",
              "  </thead>\n",
              "  <tbody>\n",
              "    <tr>\n",
              "      <th>0</th>\n",
              "      <td>Ron Fournier: \"Clinton Used Secret Server To P...</td>\n",
              "      <td>791643269109350400</td>\n",
              "      <td>25073877</td>\n",
              "      <td>there are retweets</td>\n",
              "      <td>there are retweets</td>\n",
              "      <td>13092.0</td>\n",
              "      <td>Thursday</td>\n",
              "      <td>October</td>\n",
              "      <td>27</td>\n",
              "      <td>14</td>\n",
              "      <td>...</td>\n",
              "      <td>+0000</td>\n",
              "      <td>True</td>\n",
              "      <td>[]</td>\n",
              "      <td>97</td>\n",
              "      <td>ron fournier clinton used secret server protec...</td>\n",
              "      <td>2016-10-27</td>\n",
              "      <td>trump</td>\n",
              "      <td>0.3818</td>\n",
              "      <td>positive</td>\n",
              "      <td>12968.00</td>\n",
              "    </tr>\n",
              "    <tr>\n",
              "      <th>1</th>\n",
              "      <td>\"@SassyPantsjj: Michigan GOP poll 2/24/2016 Tr...</td>\n",
              "      <td>703562075616849920</td>\n",
              "      <td>25073877</td>\n",
              "      <td>there are retweets</td>\n",
              "      <td>there are retweets</td>\n",
              "      <td>1750.0</td>\n",
              "      <td>Saturday</td>\n",
              "      <td>February</td>\n",
              "      <td>27</td>\n",
              "      <td>12</td>\n",
              "      <td>...</td>\n",
              "      <td>+0000</td>\n",
              "      <td>False</td>\n",
              "      <td>[]</td>\n",
              "      <td>121</td>\n",
              "      <td>&lt;user&gt; michigan gop poll 2/24 &lt;number&gt; trump 3...</td>\n",
              "      <td>2016-02-27</td>\n",
              "      <td>trump</td>\n",
              "      <td>0.5859</td>\n",
              "      <td>positive</td>\n",
              "      <td>2141.06</td>\n",
              "    </tr>\n",
              "    <tr>\n",
              "      <th>2</th>\n",
              "      <td>WEST VIRGINIA #VoteTrump TODAY!\\n#MakeAmericaG...</td>\n",
              "      <td>730054891897536514</td>\n",
              "      <td>25073877</td>\n",
              "      <td>there are retweets</td>\n",
              "      <td>there are retweets</td>\n",
              "      <td>3562.0</td>\n",
              "      <td>Tuesday</td>\n",
              "      <td>May</td>\n",
              "      <td>10</td>\n",
              "      <td>15</td>\n",
              "      <td>...</td>\n",
              "      <td>+0000</td>\n",
              "      <td>True</td>\n",
              "      <td>[]</td>\n",
              "      <td>89</td>\n",
              "      <td>west virginia votetrump today makeamericagreat...</td>\n",
              "      <td>2016-05-10</td>\n",
              "      <td>trump</td>\n",
              "      <td>0.0000</td>\n",
              "      <td>negative</td>\n",
              "      <td>3456.00</td>\n",
              "    </tr>\n",
              "    <tr>\n",
              "      <th>3</th>\n",
              "      <td>Praying for the families of the two Iowa polic...</td>\n",
              "      <td>793824247168765952</td>\n",
              "      <td>25073877</td>\n",
              "      <td>there are retweets</td>\n",
              "      <td>there are retweets</td>\n",
              "      <td>21254.0</td>\n",
              "      <td>Wednesday</td>\n",
              "      <td>November</td>\n",
              "      <td>2</td>\n",
              "      <td>14</td>\n",
              "      <td>...</td>\n",
              "      <td>+0000</td>\n",
              "      <td>False</td>\n",
              "      <td>[]</td>\n",
              "      <td>139</td>\n",
              "      <td>praying families two iowa police ambushed morn...</td>\n",
              "      <td>2016-11-02</td>\n",
              "      <td>trump</td>\n",
              "      <td>-0.2023</td>\n",
              "      <td>negative</td>\n",
              "      <td>17905.12</td>\n",
              "    </tr>\n",
              "    <tr>\n",
              "      <th>4</th>\n",
              "      <td>Why isn't Hillary Clinton 50 points ahead?\\n#D...</td>\n",
              "      <td>780569413321789440</td>\n",
              "      <td>25073877</td>\n",
              "      <td>there are retweets</td>\n",
              "      <td>there are retweets</td>\n",
              "      <td>13963.0</td>\n",
              "      <td>Tuesday</td>\n",
              "      <td>September</td>\n",
              "      <td>27</td>\n",
              "      <td>0</td>\n",
              "      <td>...</td>\n",
              "      <td>+0000</td>\n",
              "      <td>True</td>\n",
              "      <td>[]</td>\n",
              "      <td>79</td>\n",
              "      <td>hillary clinton &lt;number&gt; points ahead debatenight</td>\n",
              "      <td>2016-09-27</td>\n",
              "      <td>trump</td>\n",
              "      <td>0.0000</td>\n",
              "      <td>negative</td>\n",
              "      <td>12830.76</td>\n",
              "    </tr>\n",
              "  </tbody>\n",
              "</table>\n",
              "<p>5 rows × 23 columns</p>\n",
              "</div>"
            ]
          },
          "metadata": {},
          "execution_count": 594
        }
      ]
    },
    {
      "cell_type": "code",
      "source": [
        "# Prepare features for the test data\n",
        "features_test = test_df[['day_of_week', 'month', 'day', 'hour', 'minute', 'second', 'year', 'tweet_length', 'sentiment','retweet_count']]\n",
        "# Encoding and standardizing the test data\n",
        "# Note: Use the same encoder and scaler fitted on the training data\n",
        "encoded_features_test = encoder.transform(features_test[['day_of_week', 'month', 'sentiment']]).toarray()\n",
        "numerical_features_test = scaler.transform(features_test[['day', 'hour', 'minute', 'second', 'year', 'tweet_length']])\n",
        "X_test = np.hstack([encoded_features_test, numerical_features_test])\n",
        "\n",
        "# Making predictions on the test data\n",
        "predicted_dominant_topic = classifier_model.predict(X_test)"
      ],
      "metadata": {
        "id": "h1Rss6aYxguZ"
      },
      "execution_count": null,
      "outputs": []
    },
    {
      "cell_type": "code",
      "source": [
        "# Attach the predictions to the test dataset\n",
        "test_df['predicted_dominant_topic'] = predicted_dominant_topic\n",
        "\n",
        "# Now test_df contains an additional column with the predicted retweet counts\n",
        "test_df.head()  # Display the first few rows of the modified test dataset"
      ],
      "metadata": {
        "colab": {
          "base_uri": "https://localhost:8080/",
          "height": 429
        },
        "id": "_Fb2iDyEyFfP",
        "outputId": "707a0953-e443-4086-b385-540bc7c56e62"
      },
      "execution_count": null,
      "outputs": [
        {
          "output_type": "execute_result",
          "data": {
            "text/plain": [
              "                                                text             tweetid  \\\n",
              "0  Ron Fournier: \"Clinton Used Secret Server To P...  791643269109350400   \n",
              "1  \"@SassyPantsjj: Michigan GOP poll 2/24/2016 Tr...  703562075616849920   \n",
              "2  WEST VIRGINIA #VoteTrump TODAY!\\n#MakeAmericaG...  730054891897536514   \n",
              "3  Praying for the families of the two Iowa polic...  793824247168765952   \n",
              "4  Why isn't Hillary Clinton 50 points ahead?\\n#D...  780569413321789440   \n",
              "\n",
              "     userid               rt_id           rt_userid  actual_retweet_count  \\\n",
              "0  25073877  there are retweets  there are retweets               13092.0   \n",
              "1  25073877  there are retweets  there are retweets                1750.0   \n",
              "2  25073877  there are retweets  there are retweets                3562.0   \n",
              "3  25073877  there are retweets  there are retweets               21254.0   \n",
              "4  25073877  there are retweets  there are retweets               13963.0   \n",
              "\n",
              "  day_of_week      month  day  hour  ...  contains_link  emojis  tweet_length  \\\n",
              "0    Thursday    October   27    14  ...           True      []            97   \n",
              "1    Saturday   February   27    12  ...          False      []           121   \n",
              "2     Tuesday        May   10    15  ...           True      []            89   \n",
              "3   Wednesday   November    2    14  ...          False      []           139   \n",
              "4     Tuesday  September   27     0  ...           True      []            79   \n",
              "\n",
              "                                          clean_data      W_date tweet_by  \\\n",
              "0  ron fournier clinton used secret server protec...  2016-10-27    trump   \n",
              "1  <user> michigan gop poll 2/24 <number> trump 3...  2016-02-27    trump   \n",
              "2  west virginia votetrump today makeamericagreat...  2016-05-10    trump   \n",
              "3  praying families two iowa police ambushed morn...  2016-11-02    trump   \n",
              "4  hillary clinton <number> points ahead debatenight  2016-09-27    trump   \n",
              "\n",
              "   vader_sentiment sentiment retweet_count predicted_dominant_topic  \n",
              "0           0.3818  positive      12968.00                        0  \n",
              "1           0.5859  positive       2141.06                        0  \n",
              "2           0.0000  negative       3456.00                        0  \n",
              "3          -0.2023  negative      17905.12                        0  \n",
              "4           0.0000  negative      12830.76                        0  \n",
              "\n",
              "[5 rows x 24 columns]"
            ],
            "text/html": [
              "<div>\n",
              "<style scoped>\n",
              "    .dataframe tbody tr th:only-of-type {\n",
              "        vertical-align: middle;\n",
              "    }\n",
              "\n",
              "    .dataframe tbody tr th {\n",
              "        vertical-align: top;\n",
              "    }\n",
              "\n",
              "    .dataframe thead th {\n",
              "        text-align: right;\n",
              "    }\n",
              "</style>\n",
              "<table border=\"1\" class=\"dataframe\">\n",
              "  <thead>\n",
              "    <tr style=\"text-align: right;\">\n",
              "      <th></th>\n",
              "      <th>text</th>\n",
              "      <th>tweetid</th>\n",
              "      <th>userid</th>\n",
              "      <th>rt_id</th>\n",
              "      <th>rt_userid</th>\n",
              "      <th>actual_retweet_count</th>\n",
              "      <th>day_of_week</th>\n",
              "      <th>month</th>\n",
              "      <th>day</th>\n",
              "      <th>hour</th>\n",
              "      <th>...</th>\n",
              "      <th>contains_link</th>\n",
              "      <th>emojis</th>\n",
              "      <th>tweet_length</th>\n",
              "      <th>clean_data</th>\n",
              "      <th>W_date</th>\n",
              "      <th>tweet_by</th>\n",
              "      <th>vader_sentiment</th>\n",
              "      <th>sentiment</th>\n",
              "      <th>retweet_count</th>\n",
              "      <th>predicted_dominant_topic</th>\n",
              "    </tr>\n",
              "  </thead>\n",
              "  <tbody>\n",
              "    <tr>\n",
              "      <th>0</th>\n",
              "      <td>Ron Fournier: \"Clinton Used Secret Server To P...</td>\n",
              "      <td>791643269109350400</td>\n",
              "      <td>25073877</td>\n",
              "      <td>there are retweets</td>\n",
              "      <td>there are retweets</td>\n",
              "      <td>13092.0</td>\n",
              "      <td>Thursday</td>\n",
              "      <td>October</td>\n",
              "      <td>27</td>\n",
              "      <td>14</td>\n",
              "      <td>...</td>\n",
              "      <td>True</td>\n",
              "      <td>[]</td>\n",
              "      <td>97</td>\n",
              "      <td>ron fournier clinton used secret server protec...</td>\n",
              "      <td>2016-10-27</td>\n",
              "      <td>trump</td>\n",
              "      <td>0.3818</td>\n",
              "      <td>positive</td>\n",
              "      <td>12968.00</td>\n",
              "      <td>0</td>\n",
              "    </tr>\n",
              "    <tr>\n",
              "      <th>1</th>\n",
              "      <td>\"@SassyPantsjj: Michigan GOP poll 2/24/2016 Tr...</td>\n",
              "      <td>703562075616849920</td>\n",
              "      <td>25073877</td>\n",
              "      <td>there are retweets</td>\n",
              "      <td>there are retweets</td>\n",
              "      <td>1750.0</td>\n",
              "      <td>Saturday</td>\n",
              "      <td>February</td>\n",
              "      <td>27</td>\n",
              "      <td>12</td>\n",
              "      <td>...</td>\n",
              "      <td>False</td>\n",
              "      <td>[]</td>\n",
              "      <td>121</td>\n",
              "      <td>&lt;user&gt; michigan gop poll 2/24 &lt;number&gt; trump 3...</td>\n",
              "      <td>2016-02-27</td>\n",
              "      <td>trump</td>\n",
              "      <td>0.5859</td>\n",
              "      <td>positive</td>\n",
              "      <td>2141.06</td>\n",
              "      <td>0</td>\n",
              "    </tr>\n",
              "    <tr>\n",
              "      <th>2</th>\n",
              "      <td>WEST VIRGINIA #VoteTrump TODAY!\\n#MakeAmericaG...</td>\n",
              "      <td>730054891897536514</td>\n",
              "      <td>25073877</td>\n",
              "      <td>there are retweets</td>\n",
              "      <td>there are retweets</td>\n",
              "      <td>3562.0</td>\n",
              "      <td>Tuesday</td>\n",
              "      <td>May</td>\n",
              "      <td>10</td>\n",
              "      <td>15</td>\n",
              "      <td>...</td>\n",
              "      <td>True</td>\n",
              "      <td>[]</td>\n",
              "      <td>89</td>\n",
              "      <td>west virginia votetrump today makeamericagreat...</td>\n",
              "      <td>2016-05-10</td>\n",
              "      <td>trump</td>\n",
              "      <td>0.0000</td>\n",
              "      <td>negative</td>\n",
              "      <td>3456.00</td>\n",
              "      <td>0</td>\n",
              "    </tr>\n",
              "    <tr>\n",
              "      <th>3</th>\n",
              "      <td>Praying for the families of the two Iowa polic...</td>\n",
              "      <td>793824247168765952</td>\n",
              "      <td>25073877</td>\n",
              "      <td>there are retweets</td>\n",
              "      <td>there are retweets</td>\n",
              "      <td>21254.0</td>\n",
              "      <td>Wednesday</td>\n",
              "      <td>November</td>\n",
              "      <td>2</td>\n",
              "      <td>14</td>\n",
              "      <td>...</td>\n",
              "      <td>False</td>\n",
              "      <td>[]</td>\n",
              "      <td>139</td>\n",
              "      <td>praying families two iowa police ambushed morn...</td>\n",
              "      <td>2016-11-02</td>\n",
              "      <td>trump</td>\n",
              "      <td>-0.2023</td>\n",
              "      <td>negative</td>\n",
              "      <td>17905.12</td>\n",
              "      <td>0</td>\n",
              "    </tr>\n",
              "    <tr>\n",
              "      <th>4</th>\n",
              "      <td>Why isn't Hillary Clinton 50 points ahead?\\n#D...</td>\n",
              "      <td>780569413321789440</td>\n",
              "      <td>25073877</td>\n",
              "      <td>there are retweets</td>\n",
              "      <td>there are retweets</td>\n",
              "      <td>13963.0</td>\n",
              "      <td>Tuesday</td>\n",
              "      <td>September</td>\n",
              "      <td>27</td>\n",
              "      <td>0</td>\n",
              "      <td>...</td>\n",
              "      <td>True</td>\n",
              "      <td>[]</td>\n",
              "      <td>79</td>\n",
              "      <td>hillary clinton &lt;number&gt; points ahead debatenight</td>\n",
              "      <td>2016-09-27</td>\n",
              "      <td>trump</td>\n",
              "      <td>0.0000</td>\n",
              "      <td>negative</td>\n",
              "      <td>12830.76</td>\n",
              "      <td>0</td>\n",
              "    </tr>\n",
              "  </tbody>\n",
              "</table>\n",
              "<p>5 rows × 24 columns</p>\n",
              "</div>"
            ]
          },
          "metadata": {},
          "execution_count": 596
        }
      ]
    },
    {
      "cell_type": "markdown",
      "source": [
        "# evaluation\n",
        "\n"
      ],
      "metadata": {
        "id": "g5vnvAWY0YXc"
      }
    },
    {
      "cell_type": "code",
      "source": [
        "import pandas as pd\n",
        "\n",
        "# Assuming your dataset is loaded into a DataFrame named df\n",
        "\n",
        "# Calculate the difference between actual and predicted retweet counts\n",
        "test_df['difference'] = test_df['retweet_count'] - test_df['actual_retweet_count']\n",
        "\n",
        "# Calculate the total sum of differences (absolute value)\n",
        "total_difference = test_df['difference'].abs().sum()\n",
        "\n",
        "# Calculate the sum of actual retweet counts\n",
        "total_actual_retweet_count = test_df['actual_retweet_count'].sum()\n",
        "\n",
        "# Calculate the total percentage of error\n",
        "total_percentage_error = (total_difference / total_actual_retweet_count) * 100\n",
        "\n",
        "# Print the total difference and total percentage of error\n",
        "print(\"Total Percentage of Error:\", total_percentage_error)\n"
      ],
      "metadata": {
        "colab": {
          "base_uri": "https://localhost:8080/"
        },
        "id": "WYydyUlZ0fsB",
        "outputId": "bd6845e2-ef87-44a8-e4e8-5af9a6a368d4"
      },
      "execution_count": null,
      "outputs": [
        {
          "output_type": "stream",
          "name": "stdout",
          "text": [
            "Total Percentage of Error: 22.729893847774438\n"
          ]
        }
      ]
    },
    {
      "cell_type": "markdown",
      "source": [
        "even though we got the less r2 , the error percentage for the retweent count is 22% which means we got a better results form this model."
      ],
      "metadata": {
        "id": "o91k1fQxGiTr"
      }
    },
    {
      "cell_type": "code",
      "source": [
        "import matplotlib.pyplot as plt\n",
        "import seaborn as sns\n",
        "\n",
        "# Analyzing the relationship between 'dominant_topic' and 'retweet_count'\n",
        "topic_retweet_analysis = test_df.groupby('predicted_dominant_topic')['retweet_count'].mean().sort_values(ascending=False)\n",
        "\n",
        "# Plotting the analysis\n",
        "plt.figure(figsize=(10, 6))\n",
        "sns.barplot(x=topic_retweet_analysis.index, y=topic_retweet_analysis.values)\n",
        "plt.title('Average Retweet Count by Dominant Topic')\n",
        "plt.xlabel('Dominant Topic')\n",
        "plt.ylabel('Average Retweet Count')\n",
        "plt.show()\n"
      ],
      "metadata": {
        "colab": {
          "base_uri": "https://localhost:8080/",
          "height": 564
        },
        "id": "1ITc38JU1kFG",
        "outputId": "b3e74801-d256-4683-cd77-9efc01951e66"
      },
      "execution_count": null,
      "outputs": [
        {
          "output_type": "display_data",
          "data": {
            "text/plain": [
              "<Figure size 1000x600 with 1 Axes>"
            ],
            "image/png": "[encoded data removed]"
          },
          "metadata": {}
        }
      ]
    },
    {
      "cell_type": "markdown",
      "source": [
        "#to predict the topic given a tweet"
      ],
      "metadata": {
        "id": "DnjgFe46kAN3"
      }
    },
    {
      "cell_type": "markdown",
      "source": [
        "classifer_model-2"
      ],
      "metadata": {
        "id": "i63SYz6fFwa3"
      }
    },
    {
      "cell_type": "code",
      "source": [
        "from sklearn.preprocessing import LabelEncoder, StandardScaler\n",
        "from sklearn.ensemble import RandomForestClassifier\n",
        "from sklearn.metrics import classification_report\n",
        "from sklearn.model_selection import train_test_split\n",
        "\n",
        "# Feature Engineering\n",
        "features_selected = [\n",
        "    'vader_sentiment',\n",
        "    'day_of_week',\n",
        "    'month',\n",
        "    'tweet_length',\n",
        "    'retweet_count'\n",
        "]\n",
        "\n",
        "# Prepare the training data\n",
        "X_train_features = train_df[features_selected]\n",
        "y_train = train_df['dominant_topic']\n",
        "\n",
        "# Encoding categorical variables in training data\n",
        "day_encoder = LabelEncoder()\n",
        "month_encoder = LabelEncoder()\n",
        "X_train_features['day_of_week'] = day_encoder.fit_transform(X_train_features['day_of_week'])\n",
        "X_train_features['month'] = month_encoder.fit_transform(X_train_features['month'])\n",
        "\n",
        "# Normalizing the training features\n",
        "scaler = StandardScaler()\n",
        "X_train_scaled = scaler.fit_transform(X_train_features)\n",
        "\n",
        "# Splitting the training dataset\n",
        "X_train, X_test, y_train, y_test = train_test_split(X_train_scaled, y_train, test_size=0.2, random_state=42)\n",
        "\n",
        "# Train the Random Forest classifier\n",
        "rf_model = RandomForestClassifier(random_state=42)\n",
        "rf_model.fit(X_train, y_train)\n",
        "\n",
        "# Prepare the test data\n",
        "X_test_features = test_df[features_selected]\n",
        "X_test_features['day_of_week'] = day_encoder.transform(X_test_features['day_of_week'])\n",
        "X_test_features['month'] = month_encoder.transform(X_test_features['month'])\n",
        "\n",
        "# Normalizing the test features using the same scaler object\n",
        "X_test_scaled = scaler.transform(X_test_features)\n"
      ],
      "metadata": {
        "colab": {
          "base_uri": "https://localhost:8080/"
        },
        "id": "qktuf_dibTzZ",
        "outputId": "46a6a734-2738-4d39-a01c-017b7f56beae"
      },
      "execution_count": null,
      "outputs": [
        {
          "output_type": "stream",
          "name": "stderr",
          "text": [
            "C:\\Users\\bgarikip\\AppData\\Local\\Temp\\ipykernel_14448\\1875743271.py:22: SettingWithCopyWarning: \n",
            "A value is trying to be set on a copy of a slice from a DataFrame.\n",
            "Try using .loc[row_indexer,col_indexer] = value instead\n",
            "\n",
            "See the caveats in the documentation: https://pandas.pydata.org/pandas-docs/stable/user_guide/indexing.html#returning-a-view-versus-a-copy\n",
            "  X_train_features['day_of_week'] = day_encoder.fit_transform(X_train_features['day_of_week'])\n",
            "C:\\Users\\bgarikip\\AppData\\Local\\Temp\\ipykernel_14448\\1875743271.py:23: SettingWithCopyWarning: \n",
            "A value is trying to be set on a copy of a slice from a DataFrame.\n",
            "Try using .loc[row_indexer,col_indexer] = value instead\n",
            "\n",
            "See the caveats in the documentation: https://pandas.pydata.org/pandas-docs/stable/user_guide/indexing.html#returning-a-view-versus-a-copy\n",
            "  X_train_features['month'] = month_encoder.fit_transform(X_train_features['month'])\n",
            "C:\\Users\\bgarikip\\AppData\\Local\\Temp\\ipykernel_14448\\1875743271.py:38: SettingWithCopyWarning: \n",
            "A value is trying to be set on a copy of a slice from a DataFrame.\n",
            "Try using .loc[row_indexer,col_indexer] = value instead\n",
            "\n",
            "See the caveats in the documentation: https://pandas.pydata.org/pandas-docs/stable/user_guide/indexing.html#returning-a-view-versus-a-copy\n",
            "  X_test_features['day_of_week'] = day_encoder.transform(X_test_features['day_of_week'])\n",
            "C:\\Users\\bgarikip\\AppData\\Local\\Temp\\ipykernel_14448\\1875743271.py:39: SettingWithCopyWarning: \n",
            "A value is trying to be set on a copy of a slice from a DataFrame.\n",
            "Try using .loc[row_indexer,col_indexer] = value instead\n",
            "\n",
            "See the caveats in the documentation: https://pandas.pydata.org/pandas-docs/stable/user_guide/indexing.html#returning-a-view-versus-a-copy\n",
            "  X_test_features['month'] = month_encoder.transform(X_test_features['month'])\n"
          ]
        }
      ]
    },
    {
      "cell_type": "code",
      "source": [
        "# Model Evaluation\n",
        "y_pred = rf_model.predict(X_test)\n",
        "report = classification_report(y_test, y_pred)\n",
        "\n",
        "report"
      ],
      "metadata": {
        "colab": {
          "base_uri": "https://localhost:8080/"
        },
        "id": "NnRc82u7d2L-",
        "outputId": "7962191d-f8c6-48af-ae71-0cd8c2cf4912"
      },
      "execution_count": null,
      "outputs": [
        {
          "output_type": "stream",
          "name": "stderr",
          "text": [
            "C:\\Users\\bgarikip\\myenv\\lib\\site-packages\\sklearn\\metrics\\_classification.py:1471: UndefinedMetricWarning: Precision and F-score are ill-defined and being set to 0.0 in labels with no predicted samples. Use `zero_division` parameter to control this behavior.\n",
            "  _warn_prf(average, modifier, msg_start, len(result))\n",
            "C:\\Users\\bgarikip\\myenv\\lib\\site-packages\\sklearn\\metrics\\_classification.py:1471: UndefinedMetricWarning: Precision and F-score are ill-defined and being set to 0.0 in labels with no predicted samples. Use `zero_division` parameter to control this behavior.\n",
            "  _warn_prf(average, modifier, msg_start, len(result))\n",
            "C:\\Users\\bgarikip\\myenv\\lib\\site-packages\\sklearn\\metrics\\_classification.py:1471: UndefinedMetricWarning: Precision and F-score are ill-defined and being set to 0.0 in labels with no predicted samples. Use `zero_division` parameter to control this behavior.\n",
            "  _warn_prf(average, modifier, msg_start, len(result))\n"
          ]
        },
        {
          "output_type": "execute_result",
          "data": {
            "text/plain": [
              "'              precision    recall  f1-score   support\\n\\n           0       0.93      0.99      0.96       522\\n           1       0.70      0.27      0.39        26\\n           2       0.00      0.00      0.00        13\\n           3       0.00      0.00      0.00         7\\n\\n    accuracy                           0.93       568\\n   macro avg       0.41      0.32      0.34       568\\nweighted avg       0.89      0.93      0.90       568\\n'"
            ]
          },
          "metadata": {},
          "execution_count": 600
        }
      ]
    },
    {
      "cell_type": "code",
      "source": [
        "# Calculating the weighted average F1 score\n",
        "f1 = f1_score(y_test, y_pred, average='weighted')\n",
        "\n",
        "print('Weighted Average F1 Score:', f1)"
      ],
      "metadata": {
        "colab": {
          "base_uri": "https://localhost:8080/"
        },
        "id": "Gdqv0L7w_zsJ",
        "outputId": "83ef8739-d11b-40a6-f769-ca4b38ec6259"
      },
      "execution_count": null,
      "outputs": [
        {
          "output_type": "stream",
          "name": "stdout",
          "text": [
            "Weighted Average F1 Score: 0.9010758998435054\n"
          ]
        }
      ]
    },
    {
      "cell_type": "code",
      "source": [
        "y_test_pred = rf_model.predict(X_test_scaled)\n",
        "\n",
        "# Attach the predictions to the test dataset\n",
        "test_dff['predicted_dominant_topic_2'] = y_test_pred\n",
        "\n",
        "test_dff.head()  # Display the first few rows of the modified test dataset"
      ],
      "metadata": {
        "colab": {
          "base_uri": "https://localhost:8080/",
          "height": 429
        },
        "id": "tvJpf3QF5bqW",
        "outputId": "b35edf70-e48c-4122-edcd-76eba68dc462"
      },
      "execution_count": null,
      "outputs": [
        {
          "output_type": "execute_result",
          "data": {
            "text/plain": [
              "                                                text             tweetid  \\\n",
              "0  Ron Fournier: \"Clinton Used Secret Server To P...  791643269109350400   \n",
              "1  \"@SassyPantsjj: Michigan GOP poll 2/24/2016 Tr...  703562075616849920   \n",
              "2  WEST VIRGINIA #VoteTrump TODAY!\\n#MakeAmericaG...  730054891897536514   \n",
              "3  Praying for the families of the two Iowa polic...  793824247168765952   \n",
              "4  Why isn't Hillary Clinton 50 points ahead?\\n#D...  780569413321789440   \n",
              "\n",
              "     userid               rt_id           rt_userid  retweet_count  \\\n",
              "0  25073877  there are retweets  there are retweets        13092.0   \n",
              "1  25073877  there are retweets  there are retweets         1750.0   \n",
              "2  25073877  there are retweets  there are retweets         3562.0   \n",
              "3  25073877  there are retweets  there are retweets        21254.0   \n",
              "4  25073877  there are retweets  there are retweets        13963.0   \n",
              "\n",
              "  day_of_week      month  day  hour  ...  timezone  contains_link  emojis  \\\n",
              "0    Thursday    October   27    14  ...     +0000           True      []   \n",
              "1    Saturday   February   27    12  ...     +0000          False      []   \n",
              "2     Tuesday        May   10    15  ...     +0000           True      []   \n",
              "3   Wednesday   November    2    14  ...     +0000          False      []   \n",
              "4     Tuesday  September   27     0  ...     +0000           True      []   \n",
              "\n",
              "  tweet_length                                         clean_data      W_date  \\\n",
              "0           97  ron fournier clinton used secret server protec...  2016-10-27   \n",
              "1          121  <user> michigan gop poll 2/24 <number> trump 3...  2016-02-27   \n",
              "2           89  west virginia votetrump today makeamericagreat...  2016-05-10   \n",
              "3          139  praying families two iowa police ambushed morn...  2016-11-02   \n",
              "4           79  hillary clinton <number> points ahead debatenight  2016-09-27   \n",
              "\n",
              "   tweet_by vader_sentiment sentiment predicted_dominant_topic_2  \n",
              "0     trump          0.3818  positive                          0  \n",
              "1     trump          0.5859  positive                          0  \n",
              "2     trump          0.0000  negative                          0  \n",
              "3     trump         -0.2023  negative                          0  \n",
              "4     trump          0.0000  negative                          0  \n",
              "\n",
              "[5 rows x 23 columns]"
            ],
            "text/html": [
              "<div>\n",
              "<style scoped>\n",
              "    .dataframe tbody tr th:only-of-type {\n",
              "        vertical-align: middle;\n",
              "    }\n",
              "\n",
              "    .dataframe tbody tr th {\n",
              "        vertical-align: top;\n",
              "    }\n",
              "\n",
              "    .dataframe thead th {\n",
              "        text-align: right;\n",
              "    }\n",
              "</style>\n",
              "<table border=\"1\" class=\"dataframe\">\n",
              "  <thead>\n",
              "    <tr style=\"text-align: right;\">\n",
              "      <th></th>\n",
              "      <th>text</th>\n",
              "      <th>tweetid</th>\n",
              "      <th>userid</th>\n",
              "      <th>rt_id</th>\n",
              "      <th>rt_userid</th>\n",
              "      <th>retweet_count</th>\n",
              "      <th>day_of_week</th>\n",
              "      <th>month</th>\n",
              "      <th>day</th>\n",
              "      <th>hour</th>\n",
              "      <th>...</th>\n",
              "      <th>timezone</th>\n",
              "      <th>contains_link</th>\n",
              "      <th>emojis</th>\n",
              "      <th>tweet_length</th>\n",
              "      <th>clean_data</th>\n",
              "      <th>W_date</th>\n",
              "      <th>tweet_by</th>\n",
              "      <th>vader_sentiment</th>\n",
              "      <th>sentiment</th>\n",
              "      <th>predicted_dominant_topic_2</th>\n",
              "    </tr>\n",
              "  </thead>\n",
              "  <tbody>\n",
              "    <tr>\n",
              "      <th>0</th>\n",
              "      <td>Ron Fournier: \"Clinton Used Secret Server To P...</td>\n",
              "      <td>791643269109350400</td>\n",
              "      <td>25073877</td>\n",
              "      <td>there are retweets</td>\n",
              "      <td>there are retweets</td>\n",
              "      <td>13092.0</td>\n",
              "      <td>Thursday</td>\n",
              "      <td>October</td>\n",
              "      <td>27</td>\n",
              "      <td>14</td>\n",
              "      <td>...</td>\n",
              "      <td>+0000</td>\n",
              "      <td>True</td>\n",
              "      <td>[]</td>\n",
              "      <td>97</td>\n",
              "      <td>ron fournier clinton used secret server protec...</td>\n",
              "      <td>2016-10-27</td>\n",
              "      <td>trump</td>\n",
              "      <td>0.3818</td>\n",
              "      <td>positive</td>\n",
              "      <td>0</td>\n",
              "    </tr>\n",
              "    <tr>\n",
              "      <th>1</th>\n",
              "      <td>\"@SassyPantsjj: Michigan GOP poll 2/24/2016 Tr...</td>\n",
              "      <td>703562075616849920</td>\n",
              "      <td>25073877</td>\n",
              "      <td>there are retweets</td>\n",
              "      <td>there are retweets</td>\n",
              "      <td>1750.0</td>\n",
              "      <td>Saturday</td>\n",
              "      <td>February</td>\n",
              "      <td>27</td>\n",
              "      <td>12</td>\n",
              "      <td>...</td>\n",
              "      <td>+0000</td>\n",
              "      <td>False</td>\n",
              "      <td>[]</td>\n",
              "      <td>121</td>\n",
              "      <td>&lt;user&gt; michigan gop poll 2/24 &lt;number&gt; trump 3...</td>\n",
              "      <td>2016-02-27</td>\n",
              "      <td>trump</td>\n",
              "      <td>0.5859</td>\n",
              "      <td>positive</td>\n",
              "      <td>0</td>\n",
              "    </tr>\n",
              "    <tr>\n",
              "      <th>2</th>\n",
              "      <td>WEST VIRGINIA #VoteTrump TODAY!\\n#MakeAmericaG...</td>\n",
              "      <td>730054891897536514</td>\n",
              "      <td>25073877</td>\n",
              "      <td>there are retweets</td>\n",
              "      <td>there are retweets</td>\n",
              "      <td>3562.0</td>\n",
              "      <td>Tuesday</td>\n",
              "      <td>May</td>\n",
              "      <td>10</td>\n",
              "      <td>15</td>\n",
              "      <td>...</td>\n",
              "      <td>+0000</td>\n",
              "      <td>True</td>\n",
              "      <td>[]</td>\n",
              "      <td>89</td>\n",
              "      <td>west virginia votetrump today makeamericagreat...</td>\n",
              "      <td>2016-05-10</td>\n",
              "      <td>trump</td>\n",
              "      <td>0.0000</td>\n",
              "      <td>negative</td>\n",
              "      <td>0</td>\n",
              "    </tr>\n",
              "    <tr>\n",
              "      <th>3</th>\n",
              "      <td>Praying for the families of the two Iowa polic...</td>\n",
              "      <td>793824247168765952</td>\n",
              "      <td>25073877</td>\n",
              "      <td>there are retweets</td>\n",
              "      <td>there are retweets</td>\n",
              "      <td>21254.0</td>\n",
              "      <td>Wednesday</td>\n",
              "      <td>November</td>\n",
              "      <td>2</td>\n",
              "      <td>14</td>\n",
              "      <td>...</td>\n",
              "      <td>+0000</td>\n",
              "      <td>False</td>\n",
              "      <td>[]</td>\n",
              "      <td>139</td>\n",
              "      <td>praying families two iowa police ambushed morn...</td>\n",
              "      <td>2016-11-02</td>\n",
              "      <td>trump</td>\n",
              "      <td>-0.2023</td>\n",
              "      <td>negative</td>\n",
              "      <td>0</td>\n",
              "    </tr>\n",
              "    <tr>\n",
              "      <th>4</th>\n",
              "      <td>Why isn't Hillary Clinton 50 points ahead?\\n#D...</td>\n",
              "      <td>780569413321789440</td>\n",
              "      <td>25073877</td>\n",
              "      <td>there are retweets</td>\n",
              "      <td>there are retweets</td>\n",
              "      <td>13963.0</td>\n",
              "      <td>Tuesday</td>\n",
              "      <td>September</td>\n",
              "      <td>27</td>\n",
              "      <td>0</td>\n",
              "      <td>...</td>\n",
              "      <td>+0000</td>\n",
              "      <td>True</td>\n",
              "      <td>[]</td>\n",
              "      <td>79</td>\n",
              "      <td>hillary clinton &lt;number&gt; points ahead debatenight</td>\n",
              "      <td>2016-09-27</td>\n",
              "      <td>trump</td>\n",
              "      <td>0.0000</td>\n",
              "      <td>negative</td>\n",
              "      <td>0</td>\n",
              "    </tr>\n",
              "  </tbody>\n",
              "</table>\n",
              "<p>5 rows × 23 columns</p>\n",
              "</div>"
            ]
          },
          "metadata": {},
          "execution_count": 602
        }
      ]
    },
    {
      "cell_type": "code",
      "source": [
        "# Assuming 'tweetid' is a common identifier in both test_df and test_dff\n",
        "test_df = test_df.merge(test_dff[['tweetid', 'predicted_dominant_topic_2']], on='tweetid', how='left')\n",
        "\n",
        "# Display the first few rows of the modified test_df\n",
        "test_df.head()\n"
      ],
      "metadata": {
        "colab": {
          "base_uri": "https://localhost:8080/",
          "height": 429
        },
        "id": "7fVNdfNs3sUt",
        "outputId": "243376b4-ffee-4e9b-8e90-0f7bf7b4fa17"
      },
      "execution_count": null,
      "outputs": [
        {
          "output_type": "execute_result",
          "data": {
            "text/plain": [
              "                                                text             tweetid  \\\n",
              "0  Ron Fournier: \"Clinton Used Secret Server To P...  791643269109350400   \n",
              "1  \"@SassyPantsjj: Michigan GOP poll 2/24/2016 Tr...  703562075616849920   \n",
              "2  WEST VIRGINIA #VoteTrump TODAY!\\n#MakeAmericaG...  730054891897536514   \n",
              "3  Praying for the families of the two Iowa polic...  793824247168765952   \n",
              "4  Why isn't Hillary Clinton 50 points ahead?\\n#D...  780569413321789440   \n",
              "\n",
              "     userid               rt_id           rt_userid  actual_retweet_count  \\\n",
              "0  25073877  there are retweets  there are retweets               13092.0   \n",
              "1  25073877  there are retweets  there are retweets                1750.0   \n",
              "2  25073877  there are retweets  there are retweets                3562.0   \n",
              "3  25073877  there are retweets  there are retweets               21254.0   \n",
              "4  25073877  there are retweets  there are retweets               13963.0   \n",
              "\n",
              "  day_of_week      month  day  hour  ...  tweet_length  \\\n",
              "0    Thursday    October   27    14  ...            97   \n",
              "1    Saturday   February   27    12  ...           121   \n",
              "2     Tuesday        May   10    15  ...            89   \n",
              "3   Wednesday   November    2    14  ...           139   \n",
              "4     Tuesday  September   27     0  ...            79   \n",
              "\n",
              "                                          clean_data      W_date tweet_by  \\\n",
              "0  ron fournier clinton used secret server protec...  2016-10-27    trump   \n",
              "1  <user> michigan gop poll 2/24 <number> trump 3...  2016-02-27    trump   \n",
              "2  west virginia votetrump today makeamericagreat...  2016-05-10    trump   \n",
              "3  praying families two iowa police ambushed morn...  2016-11-02    trump   \n",
              "4  hillary clinton <number> points ahead debatenight  2016-09-27    trump   \n",
              "\n",
              "   vader_sentiment sentiment  retweet_count predicted_dominant_topic  \\\n",
              "0           0.3818  positive       12968.00                        0   \n",
              "1           0.5859  positive        2141.06                        0   \n",
              "2           0.0000  negative        3456.00                        0   \n",
              "3          -0.2023  negative       17905.12                        0   \n",
              "4           0.0000  negative       12830.76                        0   \n",
              "\n",
              "  difference predicted_dominant_topic_2  \n",
              "0    -124.00                          0  \n",
              "1     391.06                          0  \n",
              "2    -106.00                          0  \n",
              "3   -3348.88                          0  \n",
              "4   -1132.24                          0  \n",
              "\n",
              "[5 rows x 26 columns]"
            ],
            "text/html": [
              "<div>\n",
              "<style scoped>\n",
              "    .dataframe tbody tr th:only-of-type {\n",
              "        vertical-align: middle;\n",
              "    }\n",
              "\n",
              "    .dataframe tbody tr th {\n",
              "        vertical-align: top;\n",
              "    }\n",
              "\n",
              "    .dataframe thead th {\n",
              "        text-align: right;\n",
              "    }\n",
              "</style>\n",
              "<table border=\"1\" class=\"dataframe\">\n",
              "  <thead>\n",
              "    <tr style=\"text-align: right;\">\n",
              "      <th></th>\n",
              "      <th>text</th>\n",
              "      <th>tweetid</th>\n",
              "      <th>userid</th>\n",
              "      <th>rt_id</th>\n",
              "      <th>rt_userid</th>\n",
              "      <th>actual_retweet_count</th>\n",
              "      <th>day_of_week</th>\n",
              "      <th>month</th>\n",
              "      <th>day</th>\n",
              "      <th>hour</th>\n",
              "      <th>...</th>\n",
              "      <th>tweet_length</th>\n",
              "      <th>clean_data</th>\n",
              "      <th>W_date</th>\n",
              "      <th>tweet_by</th>\n",
              "      <th>vader_sentiment</th>\n",
              "      <th>sentiment</th>\n",
              "      <th>retweet_count</th>\n",
              "      <th>predicted_dominant_topic</th>\n",
              "      <th>difference</th>\n",
              "      <th>predicted_dominant_topic_2</th>\n",
              "    </tr>\n",
              "  </thead>\n",
              "  <tbody>\n",
              "    <tr>\n",
              "      <th>0</th>\n",
              "      <td>Ron Fournier: \"Clinton Used Secret Server To P...</td>\n",
              "      <td>791643269109350400</td>\n",
              "      <td>25073877</td>\n",
              "      <td>there are retweets</td>\n",
              "      <td>there are retweets</td>\n",
              "      <td>13092.0</td>\n",
              "      <td>Thursday</td>\n",
              "      <td>October</td>\n",
              "      <td>27</td>\n",
              "      <td>14</td>\n",
              "      <td>...</td>\n",
              "      <td>97</td>\n",
              "      <td>ron fournier clinton used secret server protec...</td>\n",
              "      <td>2016-10-27</td>\n",
              "      <td>trump</td>\n",
              "      <td>0.3818</td>\n",
              "      <td>positive</td>\n",
              "      <td>12968.00</td>\n",
              "      <td>0</td>\n",
              "      <td>-124.00</td>\n",
              "      <td>0</td>\n",
              "    </tr>\n",
              "    <tr>\n",
              "      <th>1</th>\n",
              "      <td>\"@SassyPantsjj: Michigan GOP poll 2/24/2016 Tr...</td>\n",
              "      <td>703562075616849920</td>\n",
              "      <td>25073877</td>\n",
              "      <td>there are retweets</td>\n",
              "      <td>there are retweets</td>\n",
              "      <td>1750.0</td>\n",
              "      <td>Saturday</td>\n",
              "      <td>February</td>\n",
              "      <td>27</td>\n",
              "      <td>12</td>\n",
              "      <td>...</td>\n",
              "      <td>121</td>\n",
              "      <td>&lt;user&gt; michigan gop poll 2/24 &lt;number&gt; trump 3...</td>\n",
              "      <td>2016-02-27</td>\n",
              "      <td>trump</td>\n",
              "      <td>0.5859</td>\n",
              "      <td>positive</td>\n",
              "      <td>2141.06</td>\n",
              "      <td>0</td>\n",
              "      <td>391.06</td>\n",
              "      <td>0</td>\n",
              "    </tr>\n",
              "    <tr>\n",
              "      <th>2</th>\n",
              "      <td>WEST VIRGINIA #VoteTrump TODAY!\\n#MakeAmericaG...</td>\n",
              "      <td>730054891897536514</td>\n",
              "      <td>25073877</td>\n",
              "      <td>there are retweets</td>\n",
              "      <td>there are retweets</td>\n",
              "      <td>3562.0</td>\n",
              "      <td>Tuesday</td>\n",
              "      <td>May</td>\n",
              "      <td>10</td>\n",
              "      <td>15</td>\n",
              "      <td>...</td>\n",
              "      <td>89</td>\n",
              "      <td>west virginia votetrump today makeamericagreat...</td>\n",
              "      <td>2016-05-10</td>\n",
              "      <td>trump</td>\n",
              "      <td>0.0000</td>\n",
              "      <td>negative</td>\n",
              "      <td>3456.00</td>\n",
              "      <td>0</td>\n",
              "      <td>-106.00</td>\n",
              "      <td>0</td>\n",
              "    </tr>\n",
              "    <tr>\n",
              "      <th>3</th>\n",
              "      <td>Praying for the families of the two Iowa polic...</td>\n",
              "      <td>793824247168765952</td>\n",
              "      <td>25073877</td>\n",
              "      <td>there are retweets</td>\n",
              "      <td>there are retweets</td>\n",
              "      <td>21254.0</td>\n",
              "      <td>Wednesday</td>\n",
              "      <td>November</td>\n",
              "      <td>2</td>\n",
              "      <td>14</td>\n",
              "      <td>...</td>\n",
              "      <td>139</td>\n",
              "      <td>praying families two iowa police ambushed morn...</td>\n",
              "      <td>2016-11-02</td>\n",
              "      <td>trump</td>\n",
              "      <td>-0.2023</td>\n",
              "      <td>negative</td>\n",
              "      <td>17905.12</td>\n",
              "      <td>0</td>\n",
              "      <td>-3348.88</td>\n",
              "      <td>0</td>\n",
              "    </tr>\n",
              "    <tr>\n",
              "      <th>4</th>\n",
              "      <td>Why isn't Hillary Clinton 50 points ahead?\\n#D...</td>\n",
              "      <td>780569413321789440</td>\n",
              "      <td>25073877</td>\n",
              "      <td>there are retweets</td>\n",
              "      <td>there are retweets</td>\n",
              "      <td>13963.0</td>\n",
              "      <td>Tuesday</td>\n",
              "      <td>September</td>\n",
              "      <td>27</td>\n",
              "      <td>0</td>\n",
              "      <td>...</td>\n",
              "      <td>79</td>\n",
              "      <td>hillary clinton &lt;number&gt; points ahead debatenight</td>\n",
              "      <td>2016-09-27</td>\n",
              "      <td>trump</td>\n",
              "      <td>0.0000</td>\n",
              "      <td>negative</td>\n",
              "      <td>12830.76</td>\n",
              "      <td>0</td>\n",
              "      <td>-1132.24</td>\n",
              "      <td>0</td>\n",
              "    </tr>\n",
              "  </tbody>\n",
              "</table>\n",
              "<p>5 rows × 26 columns</p>\n",
              "</div>"
            ]
          },
          "metadata": {},
          "execution_count": 603
        }
      ]
    },
    {
      "cell_type": "markdown",
      "source": [
        "for predictive analysis we done three models\n",
        "\n",
        "1.   Regression Model:\n",
        "\n",
        "Purpose: To predict the retweet count.\n",
        "Features Used: A set of features was experimented with, including dominant topic and sentiment score. However, to achieve the best R² value, a refined set of features was selected.\n",
        "Performance: The model's performance was evaluated based on the R² value, which measures the proportion of variance in the dependent variable that is predictable from the independent variables.\n",
        "2.   Classifier Model 1:\n",
        "\n",
        "Purpose: To predict the dominant topic.\n",
        "Features Used: 'day_of_week', 'month', 'day', 'hour', 'minute', 'second', 'year', 'tweet_length', 'sentiment', 'retweet_count'.\n",
        "Performance: This model achieved an accuracy of 92% and an F1 score of 89%, indicating its effectiveness in classifying the dominant topic based on the given features.\n",
        "3.   Classifier Model 2:\n",
        "\n",
        "Purpose: Also to predict the dominant topic.\n",
        "Features Used: 'vader_sentiment', 'day_of_week', 'month', 'tweet_length', 'retweet_count'.\n",
        "Performance: This model showed an accuracy of 93% and an F1 score of 90.10%, demonstrating a slightly improved performance compared to Classifier Model 1. even the clasifier still gave the best results it would have given much more better results if we more data as mentioned before or used larger dataset(we have to filter the data becuse of ur resurces limitations.)\n",
        "\n",
        "\n",
        "Direct Analysis: By examining the retweet count vs. dominant topic bar graph, stakeholders can identify which topics garner the most retweets and tailor their content accordingly.\n",
        "\n",
        "or\n",
        "Predictive Approach:\n",
        "we can predict the dominat topic in two ways by the available features.\n",
        "\n",
        "1. Time and Sentiment-Based Prediction: If only time data and sentiment (positive or negative) are available, stakeholders can first use the regression model to predict the retweet count [becuse it is part of the classifier model features], and then apply Classifier Model 1 to predict the most effective topic.\n",
        "\n",
        "2.  Text, Sentiment Score, and Time-Based Prediction: With access to the text, sentiment score, and time details, stakeholders can use the regression model to forecast retweet counts followed by Classifier Model 2 to determine the topic. This approach is suitable for stakeholders interested in both the potential reach (retweets) and the topic relevance of their content.\n",
        "\n",
        "3.  Direct Topic Prediction: Alternatively, stakeholders can directly use either Classifier Model 1 to predict the most suitable topic based on their requirements such as time and desired number of retweets(whichthey can assign them selfes), without incorporating the regression model in the process.\n",
        "\n",
        "Each approach offers different insights and applications, allowing stakeholders to choose the one that best fits their specific needs and available data.\n",
        "\n",
        "\n",
        "\n"
      ],
      "metadata": {
        "id": "lm2s9s0BG0S9"
      }
    }
  ]
}